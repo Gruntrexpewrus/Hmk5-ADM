{
 "cells": [
  {
   "cell_type": "markdown",
   "metadata": {},
   "source": [
    "# Imports "
   ]
  },
  {
   "cell_type": "code",
   "execution_count": null,
   "metadata": {},
   "outputs": [],
   "source": [
    "from collections import defaultdict"
   ]
  },
  {
   "cell_type": "markdown",
   "metadata": {},
   "source": [
    "# Class"
   ]
  },
  {
   "cell_type": "code",
   "execution_count": 24,
   "metadata": {},
   "outputs": [],
   "source": [
    "class Graph(object):\n",
    "    \"\"\" Graph data structure, undirected by default. \"\"\"\n",
    "\n",
    "    def __init__(self):\n",
    "        self.adjacency = defaultdict(set)\n",
    "        self.dis = {}\n",
    "        self.tim = {}\n",
    "        self.network = {}\n",
    "        self.coordinates = {}\n",
    "    \n",
    "    def add(self, node1, node2):\n",
    "        \"\"\" Add connection between node1 and node2 \"\"\"\n",
    "\n",
    "        self.adjacency[node1].add(node2)      \n",
    "        self.adjacency[node2].add(node1)\n",
    "        self.adjacency[(node1, node2)] = 1\n",
    "        \n",
    "    def distance(self, node1, node2, d):\n",
    "        '''Create the distance measure from node1 to node2 '''\n",
    "        self.dis[(node1, node2)] = d\n",
    "        \n",
    "    def time(self, node1, node2, t):\n",
    "        '''Create the time distance measure from node1 to node2 '''\n",
    "        self.tim[(node1, node2)] = t\n",
    "        \n",
    "    def coordinate(self, node, coordinate1, coordinate2):\n",
    "        ''' Save the coordinates of every node '''\n",
    "        self.coordinates[node] = [coordinate1, coordinate2]\n",
    "    \n",
    "    def nodes(self):\n",
    "        ''' All the nodes of the graph '''\n",
    "        return self.adjacency.keys()"
   ]
  },
  {
   "cell_type": "markdown",
   "metadata": {},
   "source": [
    "# Read the Data\n",
    "#### Previewing the data, we notice that the first 7 rows are an introduction and an a prologue for the data that follows, so we skip these"
   ]
  },
  {
   "cell_type": "code",
   "execution_count": 2,
   "metadata": {},
   "outputs": [],
   "source": [
    "d= open(r\"C:\\Users\\Eleftheria\\Desktop\\HW5\\USA-road-d.CAL.gr\", encoding='utf-8').readlines()[7:]\n",
    "t= open(r\"C:\\Users\\Eleftheria\\Desktop\\HW5\\USA-road-t.CAL.gr\", encoding='utf-8').readlines()[7:]\n",
    "c= open(r\"C:\\Users\\Eleftheria\\Desktop\\HW5\\USA-road-d.CAL.co\", encoding='utf-8').readlines()[7:]"
   ]
  },
  {
   "cell_type": "code",
   "execution_count": 3,
   "metadata": {},
   "outputs": [
    {
     "name": "stdout",
     "output_type": "stream",
     "text": [
      "['a 1 1048577 456\\n', 'a 1048577 1 456\\n', 'a 2 1048578 2389\\n']\n",
      "['a 1 1048577 1139\\n', 'a 1048577 1 1139\\n', 'a 2 1048578 5972\\n']\n",
      "['v 1 -114315309 34133550\\n', 'v 2 -114223946 34176221\\n', 'v 3 -114307299 34148791\\n']\n"
     ]
    }
   ],
   "source": [
    "print(d[:3])\n",
    "print(t[:3])\n",
    "print(c[:3])"
   ]
  },
  {
   "cell_type": "code",
   "execution_count": 4,
   "metadata": {},
   "outputs": [],
   "source": [
    "for i in range(len(d)):\n",
    "    d[i] = d[i].split()[1:]\n",
    "    t[i] = t[i].split()[1:]\n",
    "for i in range(len(c)):\n",
    "    c[i] = c[i].split()[1:]"
   ]
  },
  {
   "cell_type": "markdown",
   "metadata": {},
   "source": [
    "#### So it turns out to be, the first element is the first node, the second the other one and the third element is the edge"
   ]
  },
  {
   "cell_type": "code",
   "execution_count": 6,
   "metadata": {},
   "outputs": [
    {
     "name": "stdout",
     "output_type": "stream",
     "text": [
      "[['1', '1048577', '456'], ['1048577', '1', '456'], ['2', '1048578', '2389']]\n"
     ]
    }
   ],
   "source": [
    "print(d[:3])\n",
    "#print(time[:3])\n",
    "#print(coordinates[3:])"
   ]
  },
  {
   "cell_type": "markdown",
   "metadata": {},
   "source": [
    "#### Let's create a Graph out of our Data"
   ]
  },
  {
   "cell_type": "code",
   "execution_count": 26,
   "metadata": {},
   "outputs": [],
   "source": [
    "G = Graph()"
   ]
  },
  {
   "cell_type": "code",
   "execution_count": null,
   "metadata": {},
   "outputs": [],
   "source": [
    "for i in range(len(d)):\n",
    "    G.add(d[i][0], d[i][1])\n",
    "    G.distance(d[i][0], d[i][1], d[i][2])\n",
    "    G.time(t[i][0], t[i][1], t[i][2])\n",
    "#for j in range(len(c)):\n",
    "#    G.coordinate(c[i][0], c[i][1], c[i][2])"
   ]
  },
  {
   "cell_type": "code",
   "execution_count": 25,
   "metadata": {},
   "outputs": [
    {
     "ename": "AttributeError",
     "evalue": "'Graph' object has no attribute 'adjacencycency'",
     "output_type": "error",
     "traceback": [
      "\u001b[1;31m---------------------------------------------------------------------------\u001b[0m",
      "\u001b[1;31mAttributeError\u001b[0m                            Traceback (most recent call last)",
      "\u001b[1;32m<ipython-input-25-083f395b092f>\u001b[0m in \u001b[0;36m<module>\u001b[1;34m\u001b[0m\n\u001b[1;32m----> 1\u001b[1;33m \u001b[0mG\u001b[0m\u001b[1;33m.\u001b[0m\u001b[0mnodes\u001b[0m\u001b[1;33m(\u001b[0m\u001b[1;33m)\u001b[0m\u001b[1;33m\u001b[0m\u001b[1;33m\u001b[0m\u001b[0m\n\u001b[0m",
      "\u001b[1;32m<ipython-input-20-8a6bab26d393>\u001b[0m in \u001b[0;36mnodes\u001b[1;34m(self)\u001b[0m\n\u001b[0;32m     30\u001b[0m     \u001b[1;32mdef\u001b[0m \u001b[0mnodes\u001b[0m\u001b[1;33m(\u001b[0m\u001b[0mself\u001b[0m\u001b[1;33m)\u001b[0m\u001b[1;33m:\u001b[0m\u001b[1;33m\u001b[0m\u001b[1;33m\u001b[0m\u001b[0m\n\u001b[0;32m     31\u001b[0m         \u001b[1;34m''' All the nodes of the graph '''\u001b[0m\u001b[1;33m\u001b[0m\u001b[1;33m\u001b[0m\u001b[0m\n\u001b[1;32m---> 32\u001b[1;33m         \u001b[1;32mreturn\u001b[0m \u001b[0mself\u001b[0m\u001b[1;33m.\u001b[0m\u001b[0madjacencycency\u001b[0m\u001b[1;33m.\u001b[0m\u001b[0mkeys\u001b[0m\u001b[1;33m(\u001b[0m\u001b[1;33m)\u001b[0m\u001b[1;33m\u001b[0m\u001b[1;33m\u001b[0m\u001b[0m\n\u001b[0m",
      "\u001b[1;31mAttributeError\u001b[0m: 'Graph' object has no attribute 'adjacencycency'"
     ]
    }
   ],
   "source": [
    "G.nodes()"
   ]
  },
  {
   "cell_type": "code",
   "execution_count": null,
   "metadata": {},
   "outputs": [],
   "source": []
  }
 ],
 "metadata": {
  "kernelspec": {
   "display_name": "Python 3",
   "language": "python",
   "name": "python3"
  },
  "language_info": {
   "codemirror_mode": {
    "name": "ipython",
    "version": 3
   },
   "file_extension": ".py",
   "mimetype": "text/x-python",
   "name": "python",
   "nbconvert_exporter": "python",
   "pygments_lexer": "ipython3",
   "version": "3.7.4"
  }
 },
 "nbformat": 4,
 "nbformat_minor": 2
}
