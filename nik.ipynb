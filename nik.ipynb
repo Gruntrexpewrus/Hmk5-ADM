{
 "cells": [
  {
   "cell_type": "markdown",
   "metadata": {},
   "source": [
    "# Imports"
   ]
  },
  {
   "cell_type": "code",
   "execution_count": 12,
   "metadata": {},
   "outputs": [],
   "source": [
    "from collections import defaultdict\n",
    "import itertools\n",
    "import matplotlib\n",
    "import networkx as nx"
   ]
  },
  {
   "cell_type": "markdown",
   "metadata": {},
   "source": [
    "# The Classes"
   ]
  },
  {
   "cell_type": "code",
   "execution_count": 3,
   "metadata": {},
   "outputs": [],
   "source": [
    "from collections import defaultdict\n",
    "import itertools"
   ]
  },
  {
   "cell_type": "code",
   "execution_count": 4,
   "metadata": {},
   "outputs": [],
   "source": [
    "from collections import defaultdict\n",
    "class Graph(object):\n",
    "    '''\n",
    "    Graph Data Structure, undirected by default\n",
    "    '''\n",
    "    \n",
    "    def __init__(self):\n",
    "        self.adjacency = defaultdict(set)\n",
    "       # self.dis = {}\n",
    "      #  self.tim = {}\n",
    "       # self.net = {}\n",
    "        self.coordinates = {}\n",
    "        self.adj_list_d = defaultdict(list)\n",
    "        self.adj_list_t = defaultdict(list)\n",
    "        self.adj_list_n = defaultdict(list)\n",
    "        \n",
    "    def add(self, node1, node2):\n",
    "        ''' Add connection between node1, node2'''\n",
    "        self.adjacency[int(node1)].add(int(node2))\n",
    "        self.adjacency[int(node2)].add(int(node1))\n",
    "        #self.net[int(node1), int(node2)] = 1\n",
    "    \n",
    "    def distance(self, node1, node2, d):\n",
    "        ''' Create the distance measure between node1 and node2 '''\n",
    "        #self.dis[(int(node1), int(node2))] = int(d)\n",
    "        if [int(d), int(node2)] not in self.adj_list_d[int(node1)]:\n",
    "            self.adj_list_d[int(node1)].append([int(d), int(node2)])\n",
    "            self.adj_list_d[int(node2)].append([int(d), int(node1)])\n",
    "            self.adj_list_n[int(node1)].append([1, int(node2)])\n",
    "            self.adj_list_n[int(node2)].append([1, int(node1)])\n",
    "        \n",
    "    def time(self, node1, node2, t):\n",
    "        ''' Create the time distance measure between node 1 and node 2'''\n",
    "        \n",
    "        #self.tim[(int(node1), int(node2))] = int(t)\n",
    "        if [ int(t), int(node2)] not in  self.adj_list_t[int(node1)]:\n",
    "            self.adj_list_t[int(node1)].append([ int(t), int(node2)])\n",
    "            self.adj_list_t[int(node2)].append([int(t), int(node1)])\n",
    "        \n",
    "    def coordinate(self, node, coordinate1, coordinate2):\n",
    "        '''Save the coordinates of every node'''\n",
    "        self.coordinates[int(node)] = [int(coordinate1), int(coordinate2)]\n",
    "    \n",
    "    def nodes_(self):\n",
    "        ''' All the nodes of the graph '''\n",
    "        return list(set(self.adjacency.keys()))\n",
    "    \n",
    "    def edges(self):\n",
    "        ''' Return all the edges of the graph '''\n",
    "        return list(self.dis.keys())\n",
    "    \n",
    "    def print_adj_list_d(self):\n",
    "        for keys, values in self.adj_list_d.items():\n",
    "            print(keys, values)\n",
    "            \n",
    "    def print_adj_list_t(self):\n",
    "        for keys, values in self.adj_list_d.items():\n",
    "            print( keys, values)\n",
    "    '''DFS for the first functionality'''      \n",
    "    def dfs(self, startnode, visited, dist, kind):\n",
    "        if visited is None:\n",
    "            visited = set() \n",
    "        visited.add(startnode)\n",
    "        for i in kind[startnode]:\n",
    "            if i[1] not in visited:\n",
    "                if i[0] < dist:\n",
    "                    self.dfs(i[1], visited, dist-i[0], kind)\n",
    "        return visited\n",
    "        \n",
    "    def functionality1(self):\n",
    "        startnode = int(input(\"Give me the node as a number: \\n \"))\n",
    "        measure = int(input(\"We need a function to claculate the distance, if you want metric distance digit 1, time distance 2, network distance 3. \\n \"))\n",
    "        dist = int(input(\"Put a number as threshold distance: \\n \"))\n",
    "        if measure == 1:\n",
    "            a=[self.dfs(startnode, None, dist, self.adj_list_d),startnode,measure]\n",
    "            return a\n",
    "        elif measure == 2:\n",
    "            a=[self.dfs(startnode, None, dist, self.adj_list_t),startnode,measure]\n",
    "            return a\n",
    "        elif measure == 3 :\n",
    "            a=[self.dfs(startnode, None, dist, self.adj_list_n),startnode,measure]\n",
    "            return a\n",
    "        \n",
    "    '''This Dijsktra return a list of nodes that you will touch in the minimum path.\n",
    "    The code works exactly like the dijsktra method renewing each time the weight and predecessor of a node. \n",
    "    We point the attention that the weights arer always counted for all the path, so every node\n",
    "    in shortest_paths will have a weight assocviated to a path, not only a couple of nodes'''\n",
    "    def dijsktra(self, initial, end, kind):\n",
    "    # shortest paths is a dict of nodes\n",
    "    # whose value is a tuple of (previous node, weight)\n",
    "        shortest_paths = {initial: (None, 0)}\n",
    "        current_node = initial\n",
    "        visited = set()\n",
    "    \n",
    "        while current_node != end:\n",
    "            visited.add(current_node)\n",
    "            destinations = kind[current_node]\n",
    "            weight_to_current_node = shortest_paths[current_node][1]\n",
    "\n",
    "            for next_node in destinations:\n",
    "                weight = next_node[0] + weight_to_current_node\n",
    "                if next_node[1] not in shortest_paths:\n",
    "                    shortest_paths[next_node[1]] = (current_node, weight)\n",
    "                else:\n",
    "                    current_shortest_weight = shortest_paths[next_node[1]][1]\n",
    "                    if current_shortest_weight > weight:\n",
    "                        shortest_paths[next_node[1]] = (current_node, weight)\n",
    "            next_destinations = {node: shortest_paths[node] for node in shortest_paths if node not in visited}\n",
    "            if not next_destinations:\n",
    "               # return \"Route Not Possible\"\n",
    "                return [],[]\n",
    "        # next node is the destination with the lowest weight in the second component\n",
    "            current_node = min(next_destinations, key=lambda k: next_destinations[k][1])\n",
    "           \n",
    "    \n",
    "    # Work back through destinations in shortest path\n",
    "        path = []\n",
    "        #print(shortest_paths)\n",
    "        while current_node is not None:\n",
    "            path.append(current_node)\n",
    "            next_node = shortest_paths[current_node][0]\n",
    "            current_node = next_node\n",
    "        \n",
    "        path = path[::-1]\n",
    "        tup = []\n",
    "        for i in range(len(path)-1):\n",
    "            tup.append((path[i], path[i+1]))\n",
    "        return tup, shortest_paths[end][1]\n",
    "    \n",
    "    def dijsktrafor2(self, nodes, kind):\n",
    "        #a list of tuples, each one a permutation of the nodes the user gave.\n",
    "        permuTuples = list(itertools.permutations(nodes))\n",
    "        final_path = []\n",
    "        weight_final =99999999999 \n",
    "        for i in permuTuples:\n",
    "            obj = list(i)\n",
    "            path = []\n",
    "            weight = 0\n",
    "            lenpath = 0\n",
    "            for j in range(len(obj)-1):\n",
    "                A, B = self.dijsktra(obj[j], obj[j+1], kind)\n",
    "                if A == [] and B == []:\n",
    "                    break\n",
    "                path.append(A)\n",
    "                weight = weight + B\n",
    "            if weight < weight_final:\n",
    "                weight_final = weight\n",
    "                final_path = path\n",
    "        to_print = []\n",
    "        #print(final_path)\n",
    "        if final_path == []:\n",
    "            return (\"No path possible\")\n",
    "        for i in final_path:\n",
    "               for j in i:\n",
    "                    to_print.append(j)\n",
    "        return to_print\n",
    "\n",
    "    def functionality2(self):\n",
    "        startnodes = [int(x) for x in input('Write the nodes, each one spaced from the other.').split()]\n",
    "        measure = int(input(\"We need a function to claculate the distance, if you want metric distance digit 1, time distance 2, network distance 3. \\n \"))\n",
    "        if measure == 1:\n",
    "            a=[self.dijsktrafor2(startnodes,self.adj_list_d),startnodes,measure]\n",
    "            return a\n",
    "        elif measure == 2:\n",
    "            a=[self.dijsktrafor2(startnodes,self.adj_list_t),startnodes,measure]\n",
    "            return a\n",
    "        elif measure == 3 :\n",
    "            a=[self.dijsktrafor2(startnodes,self.adj_list_t),startnodes,measure]\n",
    "            return a\n",
    "    \n",
    "    \n",
    "    def dijsktrafor3(self, startnode, nodes, kind):\n",
    "        nodi = [startnode]\n",
    "        for i in nodes:\n",
    "            nodi.append(i)\n",
    "        final_path = []\n",
    "        final_weight = 0\n",
    "        to_print = []\n",
    "        for i in range(len(nodi)-1):\n",
    "            A, B = self.dijsktra(nodi[i], nodi[i+1], kind)\n",
    "            if A == []:\n",
    "                    return 'No path ordered allowed'\n",
    "            final_weight += B\n",
    "            final_path.append(A)\n",
    "        for i in final_path:\n",
    "            for j in i:\n",
    "                to_print.append(j)\n",
    "        return to_print\n",
    "    \n",
    "    def functionality3(self):\n",
    "        H_n = int(input('Write the number associated to the starting node.\\n'))\n",
    "        startnodes = [int(x) for x in input('Write the nodes, each one spaced from the other.\\n').split()]\n",
    "        measure = int(input(\"We need a function to claculate the distance, if you want metric distance digit 1, time distance 2, network distance 3. \\n \"))\n",
    "        if measure == 1:\n",
    "            a=[self.dijsktrafor3( H_n, startnodes, self.adj_list_d),H_n, startnodes,measure]\n",
    "            return a\n",
    "        elif measure == 2:\n",
    "            a=[self.dijsktrafor3( H_n, startnodes, self.adj_list_t),H_n, startnodes,measure]\n",
    "            return a\n",
    "        elif measure == 3 :\n",
    "            a=[self.dijsktrafor3( H_n, startnodes, self.adj_list_n),H_n, startnodes,measure]\n",
    "            return a        \n",
    "        \n",
    "    def dijsktrafor4(self, startnode, nodes, endnode, kind):\n",
    "        permuTuples = list(itertools.permutations(nodes))\n",
    "        #count = 0\n",
    "       # if len(nodes)>7:\n",
    "         #   euristic = \n",
    "        final_path = []\n",
    "        weight_final =999999999999 \n",
    "        for i in permuTuples:\n",
    "            obj = [startnode]\n",
    "            for k in i:\n",
    "                obj.append(k)\n",
    "            obj.append(endnode)\n",
    "            path = []\n",
    "            weight = 0\n",
    "            lenpath = 0\n",
    "            for j in range(len(obj)-1):\n",
    "                A, B = self.dijsktra(obj[j], obj[j+1], kind)\n",
    "                if A == []:\n",
    "                    break\n",
    "                path.append(A)\n",
    "                weight = weight + B\n",
    "            if weight < weight_final:\n",
    "                weight_final = weight\n",
    "                final_path = path\n",
    "        to_print = []\n",
    "        #print(final_path)\n",
    "        if final_path == []:\n",
    "            return (\"No path possible\")\n",
    "        for i in final_path:\n",
    "               for j in i:\n",
    "                    to_print.append(j)\n",
    "        return to_print\n",
    "        \n",
    "        \n",
    "        \n",
    "    def functionality4(self):\n",
    "        H_n = int(input('Write the number associated to the starting node.\\n'))\n",
    "        startnodes = [int(x) for x in input('Write the nodes, each one spaced from the other, remember the last one will be always our end point.\\n').split()]\n",
    "        endnode = startnodes[-1]\n",
    "        startnodes = startnodes[:-1]\n",
    "        measure = int(input(\"We need a function to claculate the distance, if you want metric distance digit 1, time distance 2, network distance 3. \\n \"))\n",
    "        if measure == 1:\n",
    "            a=[self.dijsktrafor4( H_n, startnodes, endnode, self.adj_list_d),H_n,endnode,startnodes, measure ]\n",
    "            return a\n",
    "        elif measure == 2:\n",
    "            a=[self.dijsktrafor4( H_n, startnodes, endnode, self.adj_list_t),H_n,endnode,startnodes, measure ]\n",
    "            return a\n",
    "        elif measure == 3 :\n",
    "            a=[self.dijsktrafor4( H_n, startnodes, endnode, self.adj_list_n),H_n,endnode,startnodes, measure ]\n",
    "            return a"
   ]
  },
  {
   "cell_type": "markdown",
   "metadata": {},
   "source": [
    "# Read the Data\n",
    "#### Previewing the data, we notice that the first 7 rows are an introduction and an a prologue for the data that follows, so we skip these"
   ]
  },
  {
   "cell_type": "markdown",
   "metadata": {},
   "source": [
    "#### Let's create a Graph out of our Data"
   ]
  },
  {
   "cell_type": "code",
   "execution_count": 5,
   "metadata": {},
   "outputs": [],
   "source": [
    "G = Graph()\n",
    "with open(r\"USA-road-d.CAL.gr\", encoding='utf-8') as file:\n",
    "    n = 0\n",
    "    for line in file:\n",
    "        if n > 6 :\n",
    "            ww = line.split()\n",
    "            G.add(ww[1], ww[2])\n",
    "            G.distance(ww[1], ww[2], ww[3])\n",
    "        n += 1\n",
    "with open(r\"USA-road-d.CAL.co\", encoding='utf-8') as file:\n",
    "    n = 0\n",
    "    for line in file:\n",
    "        if n > 6 :\n",
    "            ww = line.split()\n",
    "            G.coordinate(ww[1], ww[2], ww[3])\n",
    "        n += 1\n",
    "with open(r\"USA-road-t.CAL.gr\", encoding='utf-8') as file:\n",
    "    n = 0\n",
    "    for line in file:\n",
    "        if n > 6 :\n",
    "            ww = line.split()\n",
    "            G.add(ww[1], ww[2])\n",
    "            G.time(ww[1], ww[2], ww[3])\n",
    "        n += 1"
   ]
  },
  {
   "cell_type": "code",
   "execution_count": 6,
   "metadata": {},
   "outputs": [],
   "source": [
    "#visualization\n",
    "\n",
    "#for the visualization we will use the networkx so we rebuild the data structure with networkx\n",
    "Gr=nx.DiGraph()\n",
    "f=open(\"USA-road-d.CAL.gr\",\"r\",encoding='utf-8')\n",
    "t=f.readlines()\n",
    "f.close()\n",
    "for i in range(7,len(t)):\n",
    "    a=t[i].split()\n",
    "    Gr.add_edge(int(a[1]),int(a[2]), distance=int(a[3]))\n",
    "f=open(\"USA-road-t.CAL.gr\",\"r\",encoding='utf-8')\n",
    "t=f.readlines()\n",
    "f.close()\n",
    "for i in range(7,len(t)):\n",
    "    a=t[i].split()\n",
    "    Gr.add_edge(int(a[1]),int(a[2]), time=int(a[3]))\n",
    "f=open(\"USA-road-d.CAL.co\",\"r\",encoding='utf-8')\n",
    "t=f.readlines()\n",
    "f.close()\n",
    "for i in range(7,len(t)):\n",
    "    a=t[i].split()\n",
    "    Gr.add_node(i-6, cordinate1=a[2])\n",
    "    Gr.add_node(i-6, cordinate2=a[3])\n"
   ]
  },
  {
   "cell_type": "code",
   "execution_count": 7,
   "metadata": {},
   "outputs": [
    {
     "data": {
      "text/plain": [
       "{'cordinate1': '-114390182', 'cordinate2': '33959042'}"
      ]
     },
     "execution_count": 7,
     "metadata": {},
     "output_type": "execute_result"
    }
   ],
   "source": [
    "Gr.nodes[100]"
   ]
  },
  {
   "cell_type": "code",
   "execution_count": 8,
   "metadata": {
    "scrolled": false
   },
   "outputs": [
    {
     "name": "stdout",
     "output_type": "stream",
     "text": [
      "Write the nodes, each one spaced from the other.\\\n"
     ]
    },
    {
     "ename": "ValueError",
     "evalue": "invalid literal for int() with base 10: '\\\\'",
     "output_type": "error",
     "traceback": [
      "\u001b[1;31m---------------------------------------------------------------------------\u001b[0m",
      "\u001b[1;31mValueError\u001b[0m                                Traceback (most recent call last)",
      "\u001b[1;32m<ipython-input-8-45fd52f6915b>\u001b[0m in \u001b[0;36m<module>\u001b[1;34m\u001b[0m\n\u001b[1;32m----> 1\u001b[1;33m \u001b[0ma\u001b[0m\u001b[1;33m=\u001b[0m\u001b[0mG\u001b[0m\u001b[1;33m.\u001b[0m\u001b[0mfunctionality2\u001b[0m\u001b[1;33m(\u001b[0m\u001b[1;33m)\u001b[0m\u001b[1;33m\u001b[0m\u001b[1;33m\u001b[0m\u001b[0m\n\u001b[0m",
      "\u001b[1;32m<ipython-input-3-cf7a55dfa628>\u001b[0m in \u001b[0;36mfunctionality2\u001b[1;34m(self)\u001b[0m\n\u001b[0;32m    157\u001b[0m \u001b[1;33m\u001b[0m\u001b[0m\n\u001b[0;32m    158\u001b[0m     \u001b[1;32mdef\u001b[0m \u001b[0mfunctionality2\u001b[0m\u001b[1;33m(\u001b[0m\u001b[0mself\u001b[0m\u001b[1;33m)\u001b[0m\u001b[1;33m:\u001b[0m\u001b[1;33m\u001b[0m\u001b[1;33m\u001b[0m\u001b[0m\n\u001b[1;32m--> 159\u001b[1;33m         \u001b[0mstartnodes\u001b[0m \u001b[1;33m=\u001b[0m \u001b[1;33m[\u001b[0m\u001b[0mint\u001b[0m\u001b[1;33m(\u001b[0m\u001b[0mx\u001b[0m\u001b[1;33m)\u001b[0m \u001b[1;32mfor\u001b[0m \u001b[0mx\u001b[0m \u001b[1;32min\u001b[0m \u001b[0minput\u001b[0m\u001b[1;33m(\u001b[0m\u001b[1;34m'Write the nodes, each one spaced from the other.'\u001b[0m\u001b[1;33m)\u001b[0m\u001b[1;33m.\u001b[0m\u001b[0msplit\u001b[0m\u001b[1;33m(\u001b[0m\u001b[1;33m)\u001b[0m\u001b[1;33m]\u001b[0m\u001b[1;33m\u001b[0m\u001b[1;33m\u001b[0m\u001b[0m\n\u001b[0m\u001b[0;32m    160\u001b[0m         \u001b[0mmeasure\u001b[0m \u001b[1;33m=\u001b[0m \u001b[0mint\u001b[0m\u001b[1;33m(\u001b[0m\u001b[0minput\u001b[0m\u001b[1;33m(\u001b[0m\u001b[1;34m\"We need a function to claculate the distance, if you want metric distance digit 1, time distance 2, network distance 3. \\n \"\u001b[0m\u001b[1;33m)\u001b[0m\u001b[1;33m)\u001b[0m\u001b[1;33m\u001b[0m\u001b[1;33m\u001b[0m\u001b[0m\n\u001b[0;32m    161\u001b[0m         \u001b[1;32mif\u001b[0m \u001b[0mmeasure\u001b[0m \u001b[1;33m==\u001b[0m \u001b[1;36m1\u001b[0m\u001b[1;33m:\u001b[0m\u001b[1;33m\u001b[0m\u001b[1;33m\u001b[0m\u001b[0m\n",
      "\u001b[1;32m<ipython-input-3-cf7a55dfa628>\u001b[0m in \u001b[0;36m<listcomp>\u001b[1;34m(.0)\u001b[0m\n\u001b[0;32m    157\u001b[0m \u001b[1;33m\u001b[0m\u001b[0m\n\u001b[0;32m    158\u001b[0m     \u001b[1;32mdef\u001b[0m \u001b[0mfunctionality2\u001b[0m\u001b[1;33m(\u001b[0m\u001b[0mself\u001b[0m\u001b[1;33m)\u001b[0m\u001b[1;33m:\u001b[0m\u001b[1;33m\u001b[0m\u001b[1;33m\u001b[0m\u001b[0m\n\u001b[1;32m--> 159\u001b[1;33m         \u001b[0mstartnodes\u001b[0m \u001b[1;33m=\u001b[0m \u001b[1;33m[\u001b[0m\u001b[0mint\u001b[0m\u001b[1;33m(\u001b[0m\u001b[0mx\u001b[0m\u001b[1;33m)\u001b[0m \u001b[1;32mfor\u001b[0m \u001b[0mx\u001b[0m \u001b[1;32min\u001b[0m \u001b[0minput\u001b[0m\u001b[1;33m(\u001b[0m\u001b[1;34m'Write the nodes, each one spaced from the other.'\u001b[0m\u001b[1;33m)\u001b[0m\u001b[1;33m.\u001b[0m\u001b[0msplit\u001b[0m\u001b[1;33m(\u001b[0m\u001b[1;33m)\u001b[0m\u001b[1;33m]\u001b[0m\u001b[1;33m\u001b[0m\u001b[1;33m\u001b[0m\u001b[0m\n\u001b[0m\u001b[0;32m    160\u001b[0m         \u001b[0mmeasure\u001b[0m \u001b[1;33m=\u001b[0m \u001b[0mint\u001b[0m\u001b[1;33m(\u001b[0m\u001b[0minput\u001b[0m\u001b[1;33m(\u001b[0m\u001b[1;34m\"We need a function to claculate the distance, if you want metric distance digit 1, time distance 2, network distance 3. \\n \"\u001b[0m\u001b[1;33m)\u001b[0m\u001b[1;33m)\u001b[0m\u001b[1;33m\u001b[0m\u001b[1;33m\u001b[0m\u001b[0m\n\u001b[0;32m    161\u001b[0m         \u001b[1;32mif\u001b[0m \u001b[0mmeasure\u001b[0m \u001b[1;33m==\u001b[0m \u001b[1;36m1\u001b[0m\u001b[1;33m:\u001b[0m\u001b[1;33m\u001b[0m\u001b[1;33m\u001b[0m\u001b[0m\n",
      "\u001b[1;31mValueError\u001b[0m: invalid literal for int() with base 10: '\\\\'"
     ]
    }
   ],
   "source": [
    "a=G.functionality2()"
   ]
  },
  {
   "cell_type": "code",
   "execution_count": 278,
   "metadata": {},
   "outputs": [],
   "source": [
    "newgraph=[]\n",
    "for i in range(0, len(a[0])-1):\n",
    "    newgraph.append(a[0][i][0])\n",
    "newgraph.append(a[0][-1][0])\n",
    "newgraph.append(a[0][-1][1])\n"
   ]
  },
  {
   "cell_type": "code",
   "execution_count": 279,
   "metadata": {},
   "outputs": [],
   "source": [
    "k=Gr.subgraph(newgraph)"
   ]
  },
  {
   "cell_type": "code",
   "execution_count": 284,
   "metadata": {},
   "outputs": [],
   "source": [
    "color_map = []\n",
    "nodesize=[]\n",
    "for i in range(0,len(newgraph)):\n",
    "    count=0\n",
    "    for j in range(0, len(a[1])):\n",
    "        if newgraph[i]==a[1][j]:\n",
    "            count=+1\n",
    "    if count==0:\n",
    "        nodesize.append(20)\n",
    "        color_map.append(\"blue\")\n",
    "    else:\n",
    "        color_map.append(\"red\")\n",
    "        nodesize.append(50)"
   ]
  },
  {
   "cell_type": "code",
   "execution_count": 286,
   "metadata": {
    "scrolled": true
   },
   "outputs": [
    {
     "data": {
      "image/png": "[encoded data removed]",
      "text/plain": [
       "<Figure size 432x288 with 1 Axes>"
      ]
     },
     "metadata": {},
     "output_type": "display_data"
    }
   ],
   "source": [
    "if a[2]==1:\n",
    "    nx.draw_networkx(k,node_size=nodesize, with_labels=False, node_color=color_map, nodelist=newgraph, edge_color=\"blue\",arrows=False)\n",
    "if a[2]==2:\n",
    "    nx.draw_networkx(k,node_size=nodesize, with_labels=False, node_color=color_map, nodelist=newgraph,edge_color=\"black\",arrows=False)\n",
    "if a[2]==3:\n",
    "    nx.draw_networkx(k,node_size=nodesize, with_labels=False, node_color=color_map, nodelist=newgraph, edge_color=\"red\",arrows=False)"
   ]
  },
  {
   "cell_type": "code",
   "execution_count": 12,
   "metadata": {
    "scrolled": true
   },
   "outputs": [
    {
     "name": "stdout",
     "output_type": "stream",
     "text": [
      "Give me the node as a number: \n",
      " 10\n",
      "We need a function to claculate the distance, if you want metric distance digit 1, time distance 2, network distance 3. \n",
      " 1\n",
      "Put a number as threshold distance: \n",
      " 30000\n"
     ]
    }
   ],
   "source": [
    "a=G.functionality1()"
   ]
  },
  {
   "cell_type": "code",
   "execution_count": 37,
   "metadata": {
    "scrolled": true
   },
   "outputs": [
    {
     "data": {
      "text/plain": [
       "['blue', 'blue', 'blue', 'red', 'blue', 'blue', 'blue']"
      ]
     },
     "execution_count": 37,
     "metadata": {},
     "output_type": "execute_result"
    }
   ],
   "source": [
    "newgraph=a[0]\n",
    "newgraph=list(newgraph)\n",
    "k=Gr.subgraph(newgraph)\n",
    "color_map = []\n",
    "nodesize=[]\n",
    "for i in range(0,len(newgraph)):\n",
    "    count=0\n",
    "    if newgraph[i]==a[1]:\n",
    "        count=+1\n",
    "    if count==0:\n",
    "        nodesize.append(20)\n",
    "        color_map.append(\"blue\")\n",
    "    else:\n",
    "        color_map.append(\"red\")\n",
    "        nodesize.append(50)\n"
   ]
  },
  {
   "cell_type": "code",
   "execution_count": 38,
   "metadata": {
    "scrolled": true
   },
   "outputs": [
    {
     "data": {
      "image/png": "[encoded data removed]",
      "text/plain": [
       "<Figure size 432x288 with 1 Axes>"
      ]
     },
     "metadata": {},
     "output_type": "display_data"
    }
   ],
   "source": [
    "if a[2]==1:\n",
    "    nx.draw_networkx(k,node_size=nodesize, with_labels=False, node_color=color_map, nodelist=newgraph, edge_color=\"blue\",arrows=False)\n",
    "if a[2]==2:\n",
    "    nx.draw_networkx(k,node_size=nodesize, with_labels=False, node_color=color_map, nodelist=newgraph,edge_color=\"black\",arrows=False)\n",
    "if a[2]==3:\n",
    "    nx.draw_networkx(k,node_size=nodesize, with_labels=False, node_color=color_map, nodelist=newgraph, edge_color=\"red\",arrows=False)"
   ]
  },
  {
   "cell_type": "code",
   "execution_count": 7,
   "metadata": {
    "scrolled": false
   },
   "outputs": [
    {
     "name": "stdout",
     "output_type": "stream",
     "text": [
      "Write the number associated to the starting node.\n",
      "10\n",
      "Write the nodes, each one spaced from the other.\n",
      "12 34 5\n",
      "We need a function to claculate the distance, if you want metric distance digit 1, time distance 2, network distance 3. \n",
      " 1\n"
     ]
    }
   ],
   "source": [
    "a=G.functionality3()"
   ]
  },
  {
   "cell_type": "code",
   "execution_count": 9,
   "metadata": {},
   "outputs": [],
   "source": [
    "G3=nx.DiGraph()\n",
    "for i in range(0,len(a[0])):\n",
    "    G3.add_edge(a[0][i][0],a[0][i][1])\n"
   ]
  },
  {
   "cell_type": "code",
   "execution_count": 10,
   "metadata": {},
   "outputs": [],
   "source": [
    "newgraph= []\n",
    "color_map=[]\n",
    "nodesize=[]\n",
    "newgraph = [item for sublist in a[0] for item in sublist]\n",
    "color_map = [\"purple\"]\n",
    "nodesize=[100]\n",
    "\n",
    "for i in range(1,len(newgraph)):\n",
    "    count=0\n",
    "    for j in range(0,len(a[2])):\n",
    "        if newgraph[i]==a[2][j]:\n",
    "            count+=1\n",
    "            color_map.append(\"red\")\n",
    "            nodesize.append(50)\n",
    "    if count==0:\n",
    "        color_map.append(\"blue\")\n",
    "        nodesize.append(20)\n"
   ]
  },
  {
   "cell_type": "code",
   "execution_count": 13,
   "metadata": {
    "scrolled": true
   },
   "outputs": [
    {
     "data": {
      "image/png": "[encoded data removed]",
      "text/plain": [
       "<Figure size 432x288 with 1 Axes>"
      ]
     },
     "metadata": {},
     "output_type": "display_data"
    }
   ],
   "source": [
    "if a[3]==1:\n",
    "    nx.draw_networkx(G3,node_size=nodesize, with_labels=False, node_color=color_map, nodelist=newgraph, edge_color=\"blue\",arrows=True)\n",
    "if a[3]==2:\n",
    "    nx.draw_networkx(G3,node_size=nodesize, with_labels=False, node_color=color_map, nodelist=newgraph,edge_color=\"black\",arrows=True)\n",
    "if a[3]==3:\n",
    "    nx.draw_networkx(G3,node_size=nodesize, with_labels=False, node_color=color_map, nodelist=newgraph, edge_color=\"red\",arrows=True)"
   ]
  },
  {
   "cell_type": "code",
   "execution_count": 15,
   "metadata": {
    "scrolled": false
   },
   "outputs": [
    {
     "name": "stdout",
     "output_type": "stream",
     "text": [
      "Write the number associated to the starting node.\n",
      "10\n",
      "Write the nodes, each one spaced from the other, remember the last one will be always our end point.\n",
      "23 2344 4\n",
      "We need a function to claculate the distance, if you want metric distance digit 1, time distance 2, network distance 3. \n",
      " 1\n"
     ]
    }
   ],
   "source": [
    "a=G.functionality4()"
   ]
  },
  {
   "cell_type": "code",
   "execution_count": 20,
   "metadata": {},
   "outputs": [
    {
     "name": "stdout",
     "output_type": "stream",
     "text": [
      "10 4 [23, 2344] 1\n"
     ]
    }
   ],
   "source": [
    "print(a[1],a[2],a[3],a[4])"
   ]
  },
  {
   "cell_type": "code",
   "execution_count": 28,
   "metadata": {
    "scrolled": true
   },
   "outputs": [
    {
     "name": "stdout",
     "output_type": "stream",
     "text": [
      "252\n"
     ]
    },
    {
     "data": {
      "text/plain": [
       "252"
      ]
     },
     "execution_count": 28,
     "metadata": {},
     "output_type": "execute_result"
    }
   ],
   "source": [
    "G4=nx.DiGraph()\n",
    "for i in range(0,len(a[0])):\n",
    "    G4.add_edge(a[0][i][0],a[0][i][1])\n",
    "newgraph= []\n",
    "color_map=[]\n",
    "nodesize=[]\n",
    "newgraph = [item for sublist in a[0] for item in sublist]\n",
    "color_map = [\"purple\"]\n",
    "nodesize=[100]\n",
    "\n",
    "for i in range(1,len(newgraph)-1):\n",
    "    count=0\n",
    "    for j in range(0,len(a[3])-1):\n",
    "        if newgraph[i]==a[3][j]:\n",
    "            count+=1\n",
    "            color_map.append(\"red\")\n",
    "            nodesize.append(50)\n",
    "    if count==0:\n",
    "        color_map.append(\"blue\")\n",
    "        nodesize.append(20)\n",
    "color_map.append(\"purple\")\n",
    "nodesize.append(100)"
   ]
  },
  {
   "cell_type": "code",
   "execution_count": 29,
   "metadata": {},
   "outputs": [
    {
     "data": {
      "image/png": "[encoded data removed]",
      "text/plain": [
       "<Figure size 432x288 with 1 Axes>"
      ]
     },
     "metadata": {},
     "output_type": "display_data"
    }
   ],
   "source": [
    "if a[4]==1:\n",
    "    nx.draw_networkx(G4,node_size=nodesize, with_labels=False, node_color=color_map, nodelist=newgraph, edge_color=\"blue\",arrows=True)\n",
    "if a[4]==2:\n",
    "    nx.draw_networkx(G4,node_size=nodesize, with_labels=False, node_color=color_map, nodelist=newgraph,edge_color=\"black\",arrows=True)\n",
    "if a[4]==3:\n",
    "    nx.draw_networkx(G4,node_size=nodesize, with_labels=False, node_color=color_map, nodelist=newgraph, edge_color=\"red\",arrows=True)"
   ]
  }
 ],
 "metadata": {
  "kernelspec": {
   "display_name": "Python 3",
   "language": "python",
   "name": "python3"
  },
  "language_info": {
   "codemirror_mode": {
    "name": "ipython",
    "version": 3
   },
   "file_extension": ".py",
   "mimetype": "text/x-python",
   "name": "python",
   "nbconvert_exporter": "python",
   "pygments_lexer": "ipython3",
   "version": "3.7.3"
  }
 },
 "nbformat": 4,
 "nbformat_minor": 2
}
