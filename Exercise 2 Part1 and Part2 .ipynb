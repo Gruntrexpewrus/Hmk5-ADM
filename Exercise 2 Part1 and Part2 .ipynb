{
 "cells": [
  {
   "cell_type": "markdown",
   "metadata": {},
   "source": [
    "# Imports"
   ]
  },
  {
   "cell_type": "code",
   "execution_count": 1,
   "metadata": {},
   "outputs": [],
   "source": [
    "from collections import defaultdict"
   ]
  },
  {
   "cell_type": "markdown",
   "metadata": {},
   "source": [
    "# The Classes"
   ]
  },
  {
   "cell_type": "code",
   "execution_count": 2,
   "metadata": {},
   "outputs": [],
   "source": [
    "class BinaryTree:\n",
    "    ''' A class for creating and handling binary trees '''\n",
    "    \n",
    "    def __init__(self, nodes = []):\n",
    "        self.nodes = nodes\n",
    "\n",
    "    def root(self):\n",
    "        return self.nodes[0]\n",
    "    \n",
    "    def iparent(self, i):\n",
    "        ''' Returns the parent of the node i '''\n",
    "        return (i - 1) // 2\n",
    "    \n",
    "    def ileft(self, i):\n",
    "        ''' Returns the left child of i '''\n",
    "        return 2*i + 1\n",
    "\n",
    "    def iright(self, i):\n",
    "        ''' Returns the right child of i '''\n",
    "        return 2*i + 2\n",
    "\n",
    "    def left(self, i):\n",
    "        ''' Returns the positions of the left child of i '''\n",
    "        return self.node_at_index(self.ileft(i))\n",
    "    \n",
    "    def right(self, i):\n",
    "        ''' Returns the positions of the right child of i '''\n",
    "        return self.node_at_index(self.iright(i))\n",
    "\n",
    "    def parent(self, i):\n",
    "        ''' Returns the positions of the parent of i '''\n",
    "        return self.node_at_index(self.iparent(i))\n",
    "\n",
    "    def node_at_index(self, i):\n",
    "        ''' Find out whick element is in the position i '''\n",
    "        return self.nodes[i]\n",
    "\n",
    "    def size(self):\n",
    "        ''' Returns the size of the tree'''\n",
    "        return len(self.nodes)\n",
    "    "
   ]
  },
  {
   "cell_type": "code",
   "execution_count": 3,
   "metadata": {},
   "outputs": [],
   "source": [
    "class MinHeap(BinaryTree):\n",
    "    ''' A Binary Tree where the root is the smallest number and every child follows by ascending value '''\n",
    "\n",
    "    def __init__(self, nodes):\n",
    "        BinaryTree.__init__(self, nodes)\n",
    "        self.min_heapify()\n",
    "        # self.nodes all the elements in my heap\n",
    "\n",
    "    # Heapify at a node assuming all subtrees are heapified\n",
    "    def min_heapify_subtree(self, i):\n",
    "        size = self.size() # size of the tree\n",
    "        ileft = self.ileft(i) # Calculate what woulf be the left child of i\n",
    "        iright = self.iright(i) # Calculate what would be the Right child of i \n",
    "        imin = i \n",
    "        if( ileft < size and self.nodes[ileft] < self.nodes[imin]):\n",
    "            '''\n",
    "            if the calculated left child IS in the tree and\n",
    "            its position is ahead of the min(the parent), then\n",
    "            say that the minimum is the left child\n",
    "            '''\n",
    "            imin = ileft\n",
    "            \n",
    "        if( iright < size and self.nodes[iright] < self.nodes[imin]): \n",
    "            '''\n",
    "            if the calculated right child IS in the tree and\n",
    "            its position is ahead of the min(the parent), then\n",
    "            say that the minimum is the right child\n",
    "            '''\n",
    "            imin = iright\n",
    "            \n",
    "        if( imin != i):  \n",
    "            '''\n",
    "            If it turns out that the parent is in fact larger\n",
    "            than the chidren (we've swapped the min with some of\n",
    "            its children), then swap also their place in the tree\n",
    "            Once you do that check if the new \"parent\" (the child\n",
    "            became a parent) is in the right position\n",
    "            '''\n",
    "            \n",
    "            self.nodes[i], self.nodes[imin] = self.nodes[imin], self.nodes[i]\n",
    "            self.min_heapify_subtree(imin)                          \n",
    "\n",
    "\n",
    "    def min_heapify(self):\n",
    "        '''\n",
    "        Iterate through every node of the heap from the last to the first \n",
    "        and make our heap with the node with the minimu value is the root \n",
    "        and all the other nodes follow in ascending order\n",
    "        '''\n",
    "        for i in range(len(self.nodes), -1, -1): \n",
    "            self.min_heapify_subtree(i)\n",
    "\n",
    "    def min(self):\n",
    "        return self.nodes[0] # Return the root, aka the minimum\n",
    "\n",
    "    def pop(self):\n",
    "        '''\n",
    "        Find the minimum element in the heap (tree) aka the root. If the tree is not just this element remove it\n",
    "        and replace it with the last object in the heap. Run min_heapify to reorder the heap(maintain the heap property). \n",
    "        '''\n",
    "        min = self.nodes[0]\n",
    "        if self.size() > 1:\n",
    "            self.nodes[0] = self.nodes[-1]\n",
    "            self.nodes.pop()\n",
    "            self.min_heapify_subtree(0)\n",
    "        elif self.size() == 1: \n",
    "            self.nodes.pop()\n",
    "        else:\n",
    "            return None\n",
    "        return min\n",
    "\n",
    "    def decrease_key(self, element, val):\n",
    "        '''\n",
    "        Find the position of the node i and change its value.\n",
    "        Now check if with the changed value the position of i \n",
    "        has the heap property\n",
    "        '''\n",
    "        for i in range(len(self.nodes)):\n",
    "            if element == self.nodes[i][1]:\n",
    "                self.nodes[i][0] = val\n",
    "                index = i\n",
    "                break\n",
    "        #self.nodes[i] = val\n",
    "        iparent = self.iparent(i)\n",
    "        while( i != 0 and self.nodes[iparent] > self.nodes[i]):\n",
    "            self.nodes[iparent], self.nodes[i] = self.nodes[i], self.nodes[iparent]\n",
    "            i = iparent\n",
    "            if i > 0:\n",
    "                iparent = self.iparent(i)"
   ]
  },
  {
   "cell_type": "code",
   "execution_count": 4,
   "metadata": {},
   "outputs": [],
   "source": [
    "class Graph(object):\n",
    "    '''\n",
    "    Graph Data Structure, undirected by default\n",
    "    '''\n",
    "    \n",
    "    def __init__(self):\n",
    "        self.adjacency = defaultdict(set)\n",
    "        self.dis = {}\n",
    "        self.tim = {}\n",
    "        self.net = {}\n",
    "        self.coordinates = {}\n",
    "        self.adj_list_d = defaultdict(list)\n",
    "        self.adj_list_t = defaultdict(list)\n",
    "\n",
    "    def add(self, node1, node2):\n",
    "        ''' Add connection between node1, node2'''\n",
    "        self.adjacency[int(node1)].add(int(node2))\n",
    "        self.adjacency[int(node2)].add(int(node1))\n",
    "        self.net[(int(node1), int(node2))] = 1\n",
    "        \n",
    "    def distance(self, node1, node2, d):\n",
    "        ''' Create the distance measure between node1 and node2 '''\n",
    "        self.dis[(int(node1), int(node2))] = int(d)\n",
    "        self.adj_list_d[int(node1)].append((int(d), int(node2)))\n",
    "        self.adj_list_d[int(node2)].append((int(d), int(node1)))\n",
    "        \n",
    "    def time(self, node1, node2, t):\n",
    "        ''' Create the time distance measure between node 1 and node 2'''\n",
    "        \n",
    "        self.tim[(int(node1), int(node2))] = int(t)\n",
    "        self.adj_list_t[int(node1)].append(( int(t), int(node2)))\n",
    "        self.adj_list_t[int(node2)].append((int(t), int(node1)))\n",
    "        \n",
    "    def coordinate(self, node, coordinate1, coordinate2):\n",
    "        '''Save the coordinates of every node'''\n",
    "        self.coordinates[int(node)] = [int(coordinate1), int(coordinate2)]\n",
    "    \n",
    "    def nodes_(self):\n",
    "        ''' All the nodes of the graph '''\n",
    "        return list(set(self.adjacency.keys()))\n",
    "    \n",
    "    def edges(self):\n",
    "        ''' Return all the edges of the graph '''\n",
    "        return list(self.dis.keys())\n",
    "    \n",
    "    def print_adj_list_d(self):\n",
    "        for keys, values in self.adj_list_d.items():\n",
    "            print(keys, values)\n",
    "            \n",
    "    def print_adj_list_t(self):\n",
    "        for keys, values in self.adj_list_d.items():\n",
    "            print( keys, values)\n",
    "            \n",
    "    def dijksta(self, v, measurement):\n",
    "        ''' Returns the shortest distance of v and all the other nodes'''\n",
    "        distance_from_v = {ele : float(\"inf\") for ele in self.nodes_()}\n",
    "        distance_from_v[v] = 0\n",
    "        heap = MinHeap([[values, keys] for keys, values in distance_from_v.items()])\n",
    "        seen = []\n",
    "        edges_ = defaultdict()\n",
    "        while heap.size() > 0:\n",
    "            c_n = heap.pop()[1]\n",
    "            seen.append(c_n)\n",
    "            for n in self.adjacency[c_n].difference(set(seen)):\n",
    "                if distance_from_v[n] > distance_from_v[c_n] + measurement[(c_n, n)]:\n",
    "                    if heap.size()>0:\n",
    "                        if c_n in edges_.keys():\n",
    "                            edges_[n] = edges_[c_n] +  [(c_n, n)]\n",
    "                        else: \n",
    "                            edges_[n] = [(c_n, n)]\n",
    "                    distance_from_v[n] = distance_from_v[c_n] + measurement[(c_n, n)]\n",
    "                    heap.decrease_key(n,distance_from_v[n])\n",
    "        return distance_from_v, edges_\n",
    "    \n",
    "    def functionality1(self):\n",
    "        ''' \n",
    "        Input : - set of nodes v = {v_1, ...., v_n}\n",
    "                - a distance threshold d\n",
    "        Output : set of nodes at distance <= d from v\n",
    "        '''\n",
    "        v = int(input(\"Give me the node \"))\n",
    "        measure = input(\"The function to calculate the distance \")\n",
    "        d = int(input(\" and the threshold distance \"))\n",
    "        if measure.lower() == \"distance\":\n",
    "            neigh = self.dijksta(v, self.dis)[0]\n",
    "        elif measure.lower() == \"time\" or measure.lower() == \"time distance\" :\n",
    "            neigh = self.dijksta(v, self.tim)[0]\n",
    "        elif measure.lower() == \"network\" or measure.lower() == \"network distance\":\n",
    "            neigh = self.dijksta(v, self.net)[0]\n",
    "        p = []\n",
    "        for keys, values in neigh.items():\n",
    "            if keys == v:\n",
    "                continue\n",
    "            if values <=d:\n",
    "                p.append(keys)\n",
    "        return p\n",
    "    \n",
    "    def functionality2(self):\n",
    "        '''\n",
    "        Input : a set of nodes v = {v_1, ..., v_n}\n",
    "        Output : the set of roads (edges) that enable the user to visit all the places\n",
    "        '''\n",
    "        v_set = set(map(int,input(\"Give me the set of nodes \").split()))\n",
    "        measure = input(\"The function to calculate the distance \")\n",
    "        if measure.lower() == \"distance\":\n",
    "            measure = self.dis\n",
    "        elif measure.lower() == \"time\" or measure.lower() == \"time distance\" :\n",
    "            measure = self.tim\n",
    "        elif measure.lower() == \"network\" or measure.lower() == \"network distance\":\n",
    "            measure = self.net\n",
    "        cost_ = defaultdict(list)\n",
    "        for i in v_set:\n",
    "            yo = {ele : float(\"inf\") for ele in v_set}\n",
    "            yo[i] = 0\n",
    "            heap = MinHeap([[values, keys] for keys, values in yo.items()])\n",
    "            seen_ = []\n",
    "            edges__ = []\n",
    "            cost = 0\n",
    "            while heap.size() > 0:\n",
    "                c_n = heap.pop()[1]\n",
    "                seen_.append(c_n)\n",
    "                for n in v_set.difference(set(seen_)):\n",
    "                    if yo[n] > yo[c_n] + G.dijksta(c_n, measure)[0][n]:\n",
    "                        yo[n] = yo[c_n] + G.dijksta(c_n, measure)[0][n]\n",
    "                        heap.decrease_key(n,yo[n])\n",
    "                        edges__ = edges__ +  G.dijksta(c_n, measure)[1][n]\n",
    "                if heap.size() > 0:\n",
    "                    cost = cost + G.dijksta(c_n, measure)[0][heap.min()[1]]\n",
    "            cost_[cost] = edges__\n",
    "        return min(cost_.items(), key=lambda x: x[0])[1]"
   ]
  },
  {
   "cell_type": "markdown",
   "metadata": {},
   "source": [
    "# Read the Data\n",
    "#### Previewing the data, we notice that the first 7 rows are an introduction and an a prologue for the data that follows, so we skip these"
   ]
  },
  {
   "cell_type": "markdown",
   "metadata": {},
   "source": [
    "#### Let's create a Graph out of our Data"
   ]
  },
  {
   "cell_type": "code",
   "execution_count": 5,
   "metadata": {},
   "outputs": [],
   "source": [
    "G = Graph()"
   ]
  },
  {
   "cell_type": "code",
   "execution_count": 6,
   "metadata": {},
   "outputs": [],
   "source": [
    "with open(r\"C:\\Users\\HP\\Documents\\ADM\\HW 5\\USA-road-d.CAL.gr\", encoding='utf-8') as file:\n",
    "    n = 0\n",
    "    for line in file:\n",
    "        if n > 6 and n<100:\n",
    "            ww = line.split()\n",
    "            G.add(ww[1], ww[2])\n",
    "            G.distance(ww[1], ww[2], ww[3])\n",
    "        n += 1"
   ]
  },
  {
   "cell_type": "code",
   "execution_count": 7,
   "metadata": {},
   "outputs": [],
   "source": [
    "with open(r\"C:\\Users\\HP\\Documents\\ADM\\HW 5\\USA-road-t.CAL.gr\", encoding='utf-8') as file:\n",
    "    n = 0\n",
    "    for line in file:\n",
    "        if n > 6 and n<100:\n",
    "            ww = line.split()\n",
    "            G.add(ww[1], ww[2])\n",
    "            G.time(ww[1], ww[2], ww[3])\n",
    "        n += 1"
   ]
  },
  {
   "cell_type": "code",
   "execution_count": 8,
   "metadata": {},
   "outputs": [],
   "source": [
    "with open(r\"C:\\Users\\HP\\Documents\\ADM\\HW 5\\USA-road-co.CAL.gr\", encoding='utf-8') as file:\n",
    "    n = 0\n",
    "    for line in file:\n",
    "        if n > 6 :\n",
    "            ww = line.split()\n",
    "            G.coordinate(ww[1], ww[2], ww[3])\n",
    "        n += 1"
   ]
  },
  {
   "cell_type": "code",
   "execution_count": 10,
   "metadata": {},
   "outputs": [
    {
     "name": "stdout",
     "output_type": "stream",
     "text": [
      "Give me the node 1\n",
      "The function to calculate the distance distance\n",
      " and the threshold distance 300000\n"
     ]
    },
    {
     "data": {
      "text/plain": [
       "[1048577]"
      ]
     },
     "execution_count": 10,
     "metadata": {},
     "output_type": "execute_result"
    }
   ],
   "source": [
    "G.functionality1()"
   ]
  },
  {
   "cell_type": "code",
   "execution_count": 14,
   "metadata": {},
   "outputs": [
    {
     "name": "stdout",
     "output_type": "stream",
     "text": [
      "Give me the set of nodes 1 1048577\n",
      "The function to calculate the distance distance\n"
     ]
    },
    {
     "data": {
      "text/plain": [
       "[(1048577, 1)]"
      ]
     },
     "execution_count": 14,
     "metadata": {},
     "output_type": "execute_result"
    }
   ],
   "source": [
    "G.functionality2()"
   ]
  },
  {
   "cell_type": "code",
   "execution_count": null,
   "metadata": {},
   "outputs": [],
   "source": []
  }
 ],
 "metadata": {
  "kernelspec": {
   "display_name": "Python 3",
   "language": "python",
   "name": "python3"
  },
  "language_info": {
   "codemirror_mode": {
    "name": "ipython",
    "version": 3
   },
   "file_extension": ".py",
   "mimetype": "text/x-python",
   "name": "python",
   "nbconvert_exporter": "python",
   "pygments_lexer": "ipython3",
   "version": "3.7.4"
  }
 },
 "nbformat": 4,
 "nbformat_minor": 2
}
