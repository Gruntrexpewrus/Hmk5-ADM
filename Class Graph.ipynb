{
 "cells": [
  {
   "cell_type": "markdown",
   "metadata": {},
   "source": [
    "# Imports"
   ]
  },
  {
   "cell_type": "code",
   "execution_count": 1,
   "metadata": {},
   "outputs": [],
   "source": [
    "from collections import defaultdict"
   ]
  },
  {
   "cell_type": "markdown",
   "metadata": {},
   "source": [
    "# The Class"
   ]
  },
  {
   "cell_type": "code",
   "execution_count": null,
   "metadata": {},
   "outputs": [],
   "source": [
    "class Graph(object):\n",
    "    '''\n",
    "    Graph Data Structure, undirected by default\n",
    "    '''\n",
    "    \n",
    "    def __init__(self):\n",
    "        self.adjacency = defaultdict(set)\n",
    "        self.dis = {}\n",
    "        self.tim = {}\n",
    "        self.net = {}\n",
    "        self.coordinates = {}\n",
    "        \n",
    "    def add(self, node1, node2):\n",
    "        ''' Add connection between node1, node2'''\n",
    "        self.adjacency[node1].add(node2)\n",
    "        self.adjacency[node2].add(node1)\n",
    "        self.net[(node1, node2)] = 1\n",
    "        \n",
    "    def distance(self, node1, node2, d):\n",
    "        ''' Create the distance measure between node1 and node2 '''\n",
    "        self.dis[(node1, node2)] = d\n",
    "        \n",
    "    def time(self, node1, node2, t):\n",
    "        ''' Create the time distance measure between node 1 and node 2'''\n",
    "        \n",
    "        self.tim[(node1, node2)] = t\n",
    "        \n",
    "    def coordinate(self, node, coordinate1, coordinate2):\n",
    "        '''Save the coordinates of every node'''\n",
    "        self.coordinates[node] = [coordinate1, coordinate2]\n",
    "    \n",
    "    def nodes(self):\n",
    "        ''' All the nodes of the graph '''\n",
    "        return list(self.adjacency.keys())\n",
    "    \n",
    "    def edges(self):\n",
    "        ''' Return all the edges of the graph '''\n",
    "        return list(self.dis.keys())\n"
   ]
  }
 ],
 "metadata": {
  "kernelspec": {
   "display_name": "Python 3",
   "language": "python",
   "name": "python3"
  },
  "language_info": {
   "codemirror_mode": {
    "name": "ipython",
    "version": 3
   },
   "file_extension": ".py",
   "mimetype": "text/x-python",
   "name": "python",
   "nbconvert_exporter": "python",
   "pygments_lexer": "ipython3",
   "version": "3.7.4"
  }
 },
 "nbformat": 4,
 "nbformat_minor": 2
}
