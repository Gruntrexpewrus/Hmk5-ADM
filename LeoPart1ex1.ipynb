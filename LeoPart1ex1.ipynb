{
 "cells": [
  {
   "cell_type": "markdown",
   "metadata": {},
   "source": [
    "# Imports"
   ]
  },
  {
   "cell_type": "code",
   "execution_count": 73,
   "metadata": {},
   "outputs": [],
   "source": [
    "from collections import defaultdict"
   ]
  },
  {
   "cell_type": "markdown",
   "metadata": {},
   "source": [
    "# The Classes"
   ]
  },
  {
   "cell_type": "code",
   "execution_count": 74,
   "metadata": {},
   "outputs": [],
   "source": [
    "class BinaryTree:\n",
    "    ''' A class for creating and handling binary trees '''\n",
    "    \n",
    "    def __init__(self, nodes = []):\n",
    "        self.nodes = nodes\n",
    "\n",
    "    def root(self):\n",
    "        return self.nodes[0]\n",
    "    \n",
    "    def iparent(self, i):\n",
    "        ''' Returns the parent of the node i '''\n",
    "        return (i - 1) // 2\n",
    "    \n",
    "    def ileft(self, i):\n",
    "        ''' Returns the left child of i '''\n",
    "        return 2*i + 1\n",
    "\n",
    "    def iright(self, i):\n",
    "        ''' Returns the right child of i '''\n",
    "        return 2*i + 2\n",
    "\n",
    "    def left(self, i):\n",
    "        ''' Returns the positions of the left child of i '''\n",
    "        return self.node_at_index(self.ileft(i))\n",
    "    \n",
    "    def right(self, i):\n",
    "        ''' Returns the positions of the right child of i '''\n",
    "        return self.node_at_index(self.iright(i))\n",
    "\n",
    "    def parent(self, i):\n",
    "        ''' Returns the positions of the parent of i '''\n",
    "        return self.node_at_index(self.iparent(i))\n",
    "\n",
    "    def node_at_index(self, i):\n",
    "        ''' Find out whick element is in the position i '''\n",
    "        return self.nodes[i]\n",
    "\n",
    "    def size(self):\n",
    "        ''' Returns the size of the tree'''\n",
    "        return len(self.nodes)\n",
    "    "
   ]
  },
  {
   "cell_type": "code",
   "execution_count": 75,
   "metadata": {},
   "outputs": [],
   "source": [
    "class MinHeap(BinaryTree):\n",
    "    ''' A Binary Tree where the root is the smallest number and every child follows by ascending value '''\n",
    "\n",
    "    def __init__(self, nodes):\n",
    "        BinaryTree.__init__(self, nodes)\n",
    "        self.min_heapify()\n",
    "        # self.nodes all the elements in my heap\n",
    "\n",
    "    # Heapify at a node assuming all subtrees are heapified\n",
    "    def min_heapify_subtree(self, i):\n",
    "        size = self.size() # size of the tree\n",
    "        ileft = self.ileft(i) # Calculate what woulf be the left child of i\n",
    "        iright = self.iright(i) # Calculate what would be the Right child of i \n",
    "        imin = i \n",
    "        if( ileft < size and self.nodes[ileft] < self.nodes[imin]):\n",
    "            '''\n",
    "            if the calculated left child IS in the tree and\n",
    "            its position is ahead of the min(the parent), then\n",
    "            say that the minimum is the left child\n",
    "            '''\n",
    "            imin = ileft\n",
    "            \n",
    "        if( iright < size and self.nodes[iright] < self.nodes[imin]): \n",
    "            '''\n",
    "            if the calculated right child IS in the tree and\n",
    "            its position is ahead of the min(the parent), then\n",
    "            say that the minimum is the right child\n",
    "            '''\n",
    "            imin = iright\n",
    "            \n",
    "        if( imin != i):  \n",
    "            '''\n",
    "            If it turns out that the parent is in fact larger\n",
    "            than the chidren (we've swapped the min with some of\n",
    "            its children), then swap also their place in the tree\n",
    "            Once you do that check if the new \"parent\" (the child\n",
    "            became a parent) is in the right position\n",
    "            '''\n",
    "            \n",
    "            self.nodes[i], self.nodes[imin] = self.nodes[imin], self.nodes[i]\n",
    "            self.min_heapify_subtree(imin)                          \n",
    "\n",
    "\n",
    "    def min_heapify(self):\n",
    "        '''\n",
    "        Iterate through every node of the heap from the last to the first \n",
    "        and make our heap with the node with the minimu value is the root \n",
    "        and all the other nodes follow in ascending order\n",
    "        '''\n",
    "        for i in range(len(self.nodes), -1, -1): \n",
    "            self.min_heapify_subtree(i)\n",
    "\n",
    "    def min(self):\n",
    "        return self.nodes[0] # Return the root, aka the minimum\n",
    "\n",
    "    def pop(self):\n",
    "        '''\n",
    "        Find the minimum element in the heap (tree) aka the root. If the tree is not just this element remove it\n",
    "        and replace it with the last object in the heap. Run min_heapify to reorder the heap(maintain the heap property). \n",
    "        '''\n",
    "        min = self.nodes[0]\n",
    "        if self.size() > 1:\n",
    "            self.nodes[0] = self.nodes[-1]\n",
    "            self.nodes.pop()\n",
    "            self.min_heapify_subtree(0)\n",
    "        elif self.size() == 1: \n",
    "            self.nodes.pop()\n",
    "        else:\n",
    "            return None\n",
    "        return min\n",
    "\n",
    "    def decrease_key(self, element, val):\n",
    "        '''\n",
    "        Find the position of the node i and change its value.\n",
    "        Now check if with the changed value the position of i \n",
    "        has the heap property\n",
    "        '''\n",
    "        for i in range(len(self.nodes)):\n",
    "            if element == self.nodes[i][1]:\n",
    "                self.nodes[i][0] = val\n",
    "                index = i\n",
    "                break\n",
    "        #self.nodes[i] = val\n",
    "        iparent = self.iparent(i)\n",
    "        while( i != 0 and self.nodes[iparent] > self.nodes[i]):\n",
    "            self.nodes[iparent], self.nodes[i] = self.nodes[i], self.nodes[iparent]\n",
    "            i = iparent\n",
    "            if i > 0:\n",
    "                iparent = self.iparent(i)"
   ]
  },
  {
   "cell_type": "code",
   "execution_count": 1,
   "metadata": {},
   "outputs": [],
   "source": [
    "from collections import defaultdict\n",
    "class Graph(object):\n",
    "    '''\n",
    "    Graph Data Structure, undirected by default\n",
    "    '''\n",
    "    \n",
    "    def __init__(self):\n",
    "        self.adjacency = defaultdict(set)\n",
    "       # self.dis = {}\n",
    "      #  self.tim = {}\n",
    "       # self.net = {}\n",
    "        self.coordinates = {}\n",
    "        self.adj_list_d = defaultdict(list)\n",
    "        self.adj_list_t = defaultdict(list)\n",
    "        self.adj_list_n = defaultdict(list)\n",
    "        \n",
    "    def add(self, node1, node2):\n",
    "        ''' Add connection between node1, node2'''\n",
    "        self.adjacency[int(node1)].add(int(node2))\n",
    "        self.adjacency[int(node2)].add(int(node1))\n",
    "        #self.net[int(node1), int(node2)] = 1\n",
    "    \n",
    "    def distance(self, node1, node2, d):\n",
    "        ''' Create the distance measure between node1 and node2 '''\n",
    "        #self.dis[(int(node1), int(node2))] = int(d)\n",
    "        if [int(d), int(node2)] not in self.adj_list_d[int(node1)]:\n",
    "            self.adj_list_d[int(node1)].append([int(d), int(node2)])\n",
    "            self.adj_list_d[int(node2)].append([int(d), int(node1)])\n",
    "            self.adj_list_n[int(node1)].append([1, int(node2)])\n",
    "            self.adj_list_n[int(node2)].append([1, int(node1)])\n",
    "        \n",
    "    def time(self, node1, node2, t):\n",
    "        ''' Create the time distance measure between node 1 and node 2'''\n",
    "        \n",
    "        #self.tim[(int(node1), int(node2))] = int(t)\n",
    "        if [ int(t), int(node2)] not in  self.adj_list_t[int(node1)]:\n",
    "            self.adj_list_t[int(node1)].append([ int(t), int(node2)])\n",
    "            self.adj_list_t[int(node2)].append([int(t), int(node1)])\n",
    "        \n",
    "    def coordinate(self, node, coordinate1, coordinate2):\n",
    "        '''Save the coordinates of every node'''\n",
    "        self.coordinates[int(node)] = [int(coordinate1), int(coordinate2)]\n",
    "    \n",
    "    def nodes_(self):\n",
    "        ''' All the nodes of the graph '''\n",
    "        return list(set(self.adjacency.keys()))\n",
    "    \n",
    "    def edges(self):\n",
    "        ''' Return all the edges of the graph '''\n",
    "        return list(self.dis.keys())\n",
    "    \n",
    "    def print_adj_list_d(self):\n",
    "        for keys, values in self.adj_list_d.items():\n",
    "            print(keys, values)\n",
    "            \n",
    "    def print_adj_list_t(self):\n",
    "        for keys, values in self.adj_list_d.items():\n",
    "            print( keys, values)\n",
    "    '''DFS for the first functionality'''      \n",
    "    def dfs(self, startnode, visited, dist, kind):\n",
    "        if visited is None:\n",
    "            visited = set() \n",
    "        visited.add(startnode)\n",
    "        for i in kind[startnode]:\n",
    "            if i[1] not in visited:\n",
    "                if i[0] < dist:\n",
    "                    self.dfs(i[1], visited, dist-i[0], kind)\n",
    "        return visited\n",
    "    \n",
    "    def functionality1(self):\n",
    "        startnode = int(input(\"Give me the node as a number: \\n \"))\n",
    "        measure = int(input(\"We need a function to claculate the distance, if you want metric distance digit 1, time distance 2, network distance 3. \\n \"))\n",
    "        dist = int(input(\"Put a number as threshold distance: \\n \"))\n",
    "        if measure == 1:\n",
    "            return self.dfs(startnode, None, dist, self.adj_list_d)\n",
    "        elif measure == 2:\n",
    "            return self.dfs(startnode, None,dist, self.adj_list_t)\n",
    "        elif measure == 3 :\n",
    "            return self.dfs(startnode, None, dist, self.adj_list_n)\n",
    "        \n",
    "    '''Modified DFS for second functionality'''"
   ]
  },
  {
   "cell_type": "markdown",
   "metadata": {},
   "source": [
    "# Read the Data\n",
    "#### Previewing the data, we notice that the first 7 rows are an introduction and an a prologue for the data that follows, so we skip these"
   ]
  },
  {
   "cell_type": "markdown",
   "metadata": {},
   "source": [
    "#### Let's create a Graph out of our Data"
   ]
  },
  {
   "cell_type": "code",
   "execution_count": 2,
   "metadata": {},
   "outputs": [],
   "source": [
    "G = Graph()"
   ]
  },
  {
   "cell_type": "code",
   "execution_count": 3,
   "metadata": {},
   "outputs": [],
   "source": [
    "with open(r\"USA-road-d.CAL.gr\", encoding='utf-8') as file:\n",
    "    n = 0\n",
    "    for line in file:\n",
    "        if n > 6:\n",
    "            ww = line.split()\n",
    "            G.add(ww[1], ww[2])\n",
    "            G.distance(ww[1], ww[2], ww[3])\n",
    "        n += 1"
   ]
  },
  {
   "cell_type": "code",
   "execution_count": 4,
   "metadata": {},
   "outputs": [],
   "source": [
    "with open(r\"USA-road-t.CAL.gr\", encoding='utf-8') as file:\n",
    "    n = 0\n",
    "    for line in file:\n",
    "        if n > 6:\n",
    "            ww = line.split()\n",
    "            G.add(ww[1], ww[2])\n",
    "            G.time(ww[1], ww[2], ww[3])\n",
    "        n += 1"
   ]
  },
  {
   "cell_type": "code",
   "execution_count": 5,
   "metadata": {},
   "outputs": [],
   "source": [
    "with open(r\"USA-road-d.CAL.co\", encoding='utf-8') as file:\n",
    "    n = 0\n",
    "    for line in file:\n",
    "        if n > 6:\n",
    "            ww = line.split()\n",
    "            G.coordinate(ww[1], ww[2], ww[3])\n",
    "        n += 1"
   ]
  },
  {
   "cell_type": "code",
   "execution_count": 8,
   "metadata": {
    "scrolled": false
   },
   "outputs": [
    {
     "name": "stdout",
     "output_type": "stream",
     "text": [
      "Give me the node as a number: \n",
      " 23\n",
      "We need a function to claculate the distance, if you want metric distance digit 1, time distance 2, network distance 3. \n",
      " 1\n",
      "Put a number as threshold distance: \n",
      " 10000\n"
     ]
    },
    {
     "data": {
      "text/plain": [
       "{23, 43, 2384, 1048594, 1048612, 1050239, 1050241, 1050496}"
      ]
     },
     "execution_count": 8,
     "metadata": {},
     "output_type": "execute_result"
    }
   ],
   "source": [
    "G.functionality1()"
   ]
  },
  {
   "cell_type": "code",
   "execution_count": 11,
   "metadata": {
    "scrolled": true
   },
   "outputs": [
    {
     "name": "stdout",
     "output_type": "stream",
     "text": [
      "Give me the node as a number: \n",
      " 23\n",
      "We need a function to claculate the distance, if you want metric distance digit 1, time distance 2, network distance 3. \n",
      " 2\n",
      "Put a number as threshold distance: \n",
      " 50000\n"
     ]
    },
    {
     "data": {
      "text/plain": [
       "{23,\n",
       " 24,\n",
       " 40,\n",
       " 43,\n",
       " 61,\n",
       " 2074,\n",
       " 2384,\n",
       " 2660,\n",
       " 2661,\n",
       " 2662,\n",
       " 1048594,\n",
       " 1048609,\n",
       " 1048612,\n",
       " 1048625,\n",
       " 1050239,\n",
       " 1050241,\n",
       " 1050496,\n",
       " 1050708,\n",
       " 1050709,\n",
       " 1050717}"
      ]
     },
     "execution_count": 11,
     "metadata": {},
     "output_type": "execute_result"
    }
   ],
   "source": [
    "G.functionality1()"
   ]
  },
  {
   "cell_type": "code",
   "execution_count": 13,
   "metadata": {},
   "outputs": [
    {
     "name": "stdout",
     "output_type": "stream",
     "text": [
      "Give me the node as a number: \n",
      " 23\n",
      "We need a function to claculate the distance, if you want metric distance digit 1, time distance 2, network distance 3. \n",
      " 3\n",
      "Put a number as threshold distance: \n",
      " 7\n"
     ]
    },
    {
     "data": {
      "text/plain": [
       "{19,\n",
       " 20,\n",
       " 21,\n",
       " 23,\n",
       " 24,\n",
       " 25,\n",
       " 43,\n",
       " 61,\n",
       " 65,\n",
       " 66,\n",
       " 81,\n",
       " 2074,\n",
       " 2384,\n",
       " 2461,\n",
       " 2659,\n",
       " 2660,\n",
       " 1048594,\n",
       " 1048595,\n",
       " 1048596,\n",
       " 1048597,\n",
       " 1048609,\n",
       " 1048612,\n",
       " 1048625,\n",
       " 1048628,\n",
       " 1048629,\n",
       " 1048630,\n",
       " 1050238,\n",
       " 1050239,\n",
       " 1050241,\n",
       " 1050496,\n",
       " 1050708,\n",
       " 1050709}"
      ]
     },
     "execution_count": 13,
     "metadata": {},
     "output_type": "execute_result"
    }
   ],
   "source": [
    "G.functionality1()"
   ]
  }
 ],
 "metadata": {
  "kernelspec": {
   "display_name": "Python 3",
   "language": "python",
   "name": "python3"
  },
  "language_info": {
   "codemirror_mode": {
    "name": "ipython",
    "version": 3
   },
   "file_extension": ".py",
   "mimetype": "text/x-python",
   "name": "python",
   "nbconvert_exporter": "python",
   "pygments_lexer": "ipython3",
   "version": "3.7.5"
  }
 },
 "nbformat": 4,
 "nbformat_minor": 2
}
