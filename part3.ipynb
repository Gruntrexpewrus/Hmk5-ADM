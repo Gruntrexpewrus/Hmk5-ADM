{
 "cells": [
  {
   "cell_type": "markdown",
   "metadata": {},
   "source": [
    "# Part[3] of ex2 and ex3."
   ]
  },
  {
   "cell_type": "markdown",
   "metadata": {},
   "source": [
    "We start osberving the data undertsanding that th einformation we need come from the 7th line till the end."
   ]
  },
  {
   "cell_type": "code",
   "execution_count": 5,
   "metadata": {
    "scrolled": true
   },
   "outputs": [
    {
     "name": "stdout",
     "output_type": "stream",
     "text": [
      "c 9th DIMACS Implementation Challenge: Shortest Paths\n",
      "\n",
      "c http://www.dis.uniroma1.it/~challenge9\n",
      "\n",
      "c TIGER/Line graph USA-road-d.CAL\n",
      "\n",
      "c\n",
      "\n",
      "p sp 1890815 4657742\n",
      "\n",
      "c graph contains 1890815 nodes and 4657742 arcs\n",
      "\n",
      "c\n",
      "\n",
      "a 1 1048577 456\n",
      "\n",
      "a 1048577 1 456\n",
      "\n",
      "a 2 1048578 2389\n",
      "\n"
     ]
    }
   ],
   "source": [
    "n = 0\n",
    "with open(\"USA-road-d.CAL.gr\", encoding='utf-8') as file:\n",
    "    for line in file:\n",
    "        if (n<10):\n",
    "            print(line)\n",
    "            n += 1"
   ]
  },
  {
   "cell_type": "code",
   "execution_count": 6,
   "metadata": {
    "scrolled": true
   },
   "outputs": [
    {
     "name": "stdout",
     "output_type": "stream",
     "text": [
      "c 9th DIMACS Implementation Challenge: Shortest Paths\n",
      "\n",
      "c http://www.dis.uniroma1.it/~challenge9\n",
      "\n",
      "c TIGER/Line graph USA-road-t.CAL\n",
      "\n",
      "c\n",
      "\n",
      "p sp 1890815 4657742\n",
      "\n",
      "c graph contains 1890815 nodes and 4657742 arcs\n",
      "\n",
      "c\n",
      "\n",
      "a 1 1048577 1139\n",
      "\n",
      "a 1048577 1 1139\n",
      "\n",
      "a 2 1048578 5972\n",
      "\n"
     ]
    }
   ],
   "source": [
    "n = 0\n",
    "with open(\"USA-road-t.CAL.gr\", encoding='utf-8') as file:\n",
    "    for line in file:\n",
    "        if (n<10):\n",
    "            print(line)\n",
    "            n += 1"
   ]
  },
  {
   "cell_type": "code",
   "execution_count": 7,
   "metadata": {},
   "outputs": [
    {
     "name": "stdout",
     "output_type": "stream",
     "text": [
      "c 9th DIMACS Implementation Challenge: Shortest Paths\n",
      "\n",
      "c http://www.dis.uniroma1.it/~challenge9\n",
      "\n",
      "c TIGER/Line nodes coords for graph USA-road-d.CAL\n",
      "\n",
      "c\n",
      "\n",
      "p aux sp co 1890815\n",
      "\n",
      "c graph contains 1890815 nodes\n",
      "\n",
      "c\n",
      "\n",
      "v 1 -114315309 34133550\n",
      "\n",
      "v 2 -114223946 34176221\n",
      "\n",
      "v 3 -114307299 34148791\n",
      "\n"
     ]
    }
   ],
   "source": [
    "n = 0\n",
    "with open(\"USA-road-d.CAL.co\", encoding='utf-8') as file:\n",
    "    for line in file:\n",
    "        if (n<10):\n",
    "            print(line)\n",
    "            n += 1"
   ]
  },
  {
   "cell_type": "code",
   "execution_count": null,
   "metadata": {},
   "outputs": [],
   "source": []
  }
 ],
 "metadata": {
  "kernelspec": {
   "display_name": "Python 3",
   "language": "python",
   "name": "python3"
  },
  "language_info": {
   "codemirror_mode": {
    "name": "ipython",
    "version": 3
   },
   "file_extension": ".py",
   "mimetype": "text/x-python",
   "name": "python",
   "nbconvert_exporter": "python",
   "pygments_lexer": "ipython3",
   "version": "3.7.5"
  }
 },
 "nbformat": 4,
 "nbformat_minor": 2
}
