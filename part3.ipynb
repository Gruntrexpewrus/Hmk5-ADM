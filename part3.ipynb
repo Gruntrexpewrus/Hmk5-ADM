{
 "cells": [
  {
   "cell_type": "markdown",
   "metadata": {},
   "source": [
    "# Part[3] of ex2 and ex3."
   ]
  },
  {
   "cell_type": "markdown",
   "metadata": {},
   "source": [
    "We start osberving the data undertsanding that th einformation we need come from the 7th line till the end."
   ]
  },
  {
   "cell_type": "code",
   "execution_count": 12,
   "metadata": {
    "scrolled": true
   },
   "outputs": [
    {
     "name": "stdout",
     "output_type": "stream",
     "text": [
      "c 9th DIMACS Implementation Challenge: Shortest Paths\n",
      "\n",
      "c http://www.dis.uniroma1.it/~challenge9\n",
      "\n",
      "c TIGER/Line graph USA-road-d.CAL\n",
      "\n",
      "c\n",
      "\n",
      "p sp 1890815 4657742\n",
      "\n",
      "c graph contains 1890815 nodes and 4657742 arcs\n",
      "\n",
      "c\n",
      "\n",
      "a 1 1048577 456\n",
      "\n",
      "a 1048577 1 456\n",
      "\n",
      "a 2 1048578 2389\n",
      "\n"
     ]
    }
   ],
   "source": [
    "n = 0\n",
    "with open(\"USA-road-d.CAL.gr\", encoding='utf-8') as file:\n",
    "    for line in file:\n",
    "        if (n<10):\n",
    "            print(line)\n",
    "            n += 1"
   ]
  },
  {
   "cell_type": "code",
   "execution_count": 13,
   "metadata": {
    "scrolled": false
   },
   "outputs": [
    {
     "name": "stdout",
     "output_type": "stream",
     "text": [
      "c 9th DIMACS Implementation Challenge: Shortest Paths\n",
      "\n",
      "c http://www.dis.uniroma1.it/~challenge9\n",
      "\n",
      "c TIGER/Line graph USA-road-t.CAL\n",
      "\n",
      "c\n",
      "\n",
      "p sp 1890815 4657742\n",
      "\n",
      "c graph contains 1890815 nodes and 4657742 arcs\n",
      "\n",
      "c\n",
      "\n",
      "a 1 1048577 1139\n",
      "\n",
      "a 1048577 1 1139\n",
      "\n",
      "a 2 1048578 5972\n",
      "\n"
     ]
    }
   ],
   "source": [
    "n = 0\n",
    "with open(\"USA-road-t.CAL.gr\", encoding='utf-8') as file:\n",
    "    for line in file:\n",
    "        if (n<10):\n",
    "            print(line)\n",
    "            n += 1"
   ]
  },
  {
   "cell_type": "markdown",
   "metadata": {},
   "source": [
    "Let's see the structure. It seems that splitting the lines we have easily the informations we need and this will work for all three files. So let's start!"
   ]
  },
  {
   "cell_type": "code",
   "execution_count": 16,
   "metadata": {
    "scrolled": true
   },
   "outputs": [
    {
     "name": "stdout",
     "output_type": "stream",
     "text": [
      "v 1 -114315309 34133550\n",
      "\n",
      "['v', '1', '-114315309', '34133550']\n",
      "v 2 -114223946 34176221\n",
      "\n",
      "['v', '2', '-114223946', '34176221']\n",
      "v 3 -114307299 34148791\n",
      "\n",
      "['v', '3', '-114307299', '34148791']\n",
      "v 4 -114318765 34138889\n",
      "\n",
      "['v', '4', '-114318765', '34138889']\n",
      "v 5 -114347300 34042614\n",
      "\n",
      "['v', '5', '-114347300', '34042614']\n",
      "v 6 -114347162 34058931\n",
      "\n",
      "['v', '6', '-114347162', '34058931']\n",
      "v 7 -114126950 33988170\n",
      "\n",
      "['v', '7', '-114126950', '33988170']\n",
      "v 8 -114347268 34028261\n",
      "\n",
      "['v', '8', '-114347268', '34028261']\n",
      "v 9 -114340613 34042519\n",
      "\n",
      "['v', '9', '-114340613', '34042519']\n"
     ]
    }
   ],
   "source": [
    "n = 0\n",
    "with open(\"USA-road-d.CAL.co\", encoding='utf-8') as file:\n",
    "    for line in file:\n",
    "        if (n>6 and n<16):\n",
    "            ww = line.split()\n",
    "            print(line)\n",
    "            print(ww)\n",
    "        n += 1"
   ]
  },
  {
   "cell_type": "code",
   "execution_count": null,
   "metadata": {},
   "outputs": [],
   "source": []
  },
  {
   "cell_type": "code",
   "execution_count": 33,
   "metadata": {},
   "outputs": [],
   "source": [
    "from collections import defaultdict\n",
    "#My dict is not directed\n",
    "\n",
    "class Graph:\n",
    "    \"\"\" Graph data structure, undirected by default. \"\"\"\n",
    "\n",
    "    def __init__(self):\n",
    "        self._graph = defaultdict(set)\n",
    "       # self._directed = directed\n",
    "       # self.add_connections(connections)\n",
    "\n",
    "    def add_connections(self, connections):\n",
    "        \"\"\" Add connections (list of tuple pairs) to graph \"\"\"\n",
    "\n",
    "        for node1, node2 in connections:\n",
    "            self.add(node1, node2)\n",
    "\n",
    "    def add(self, node1, node2):\n",
    "        \"\"\" Add connection between node1 and node2 \"\"\"\n",
    "\n",
    "        self._graph[node1].add(node2)      \n",
    "        self._graph[node2].add(node1)\n",
    "    \n",
    "    #def remove(self, node):\n",
    "       # \"\"\" Remove all references to node \"\"\"\n",
    "\n",
    "       # for n, cxns in self._graph.iteritems():\n",
    "        #    try:\n",
    "         #       cxns.remove(node)\n",
    "         #   except KeyError:\n",
    "       #         pass\n",
    "      #  try:\n",
    "       #     del self._graph[node]\n",
    "      #  except KeyError:\n",
    "         #   pass\n",
    "\n",
    "    def is_connected(self, node1, node2):\n",
    "        \"\"\" Is node1 directly connected to node2 \"\"\"\n",
    "\n",
    "        return node1 in self._graph and node2 in self._graph[node1]\n",
    "\n",
    "    def __str__(self):\n",
    "        return '{}({})'.format(self.__class__.__name__, dict(self._graph))\n",
    "\n",
    "class Node:\n",
    "    def __init__(self, name):\n",
    "        self.idx = name\n",
    "        self.co = None\n",
    "        self.edgestime = defaultdict(set)\n",
    "        self.edgedist = defaultdict(set)\n",
    "        \n",
    "    def add_co(self, coordinates):\n",
    "        self.co = [coordinates[0], coordinates[1]]\n",
    "    \n",
    "    def add_edgetime(self, node2, time):\n",
    "        self.edgestime[node2] = [time]\n",
    "        \n",
    "    def add_edgedist(self, node2, dist):\n",
    "        self.edgesdist[node2] = [dist]"
   ]
  },
  {
   "cell_type": "code",
   "execution_count": 29,
   "metadata": {},
   "outputs": [
    {
     "name": "stdout",
     "output_type": "stream",
     "text": [
      "Graph({1: {2}, 2: {1}})\n"
     ]
    }
   ],
   "source": [
    "A = Graph()\n",
    "#A = A.add(1,2)\n",
    "A.add(1,2)\n",
    "print(A)\n"
   ]
  },
  {
   "cell_type": "code",
   "execution_count": 37,
   "metadata": {},
   "outputs": [
    {
     "data": {
      "text/plain": [
       "[<__main__.Node at 0x1d5d7b07508>,\n",
       " <__main__.Node at 0x1d5d7b078c8>,\n",
       " <__main__.Node at 0x1d5d7b07c08>,\n",
       " <__main__.Node at 0x1d5d7b07488>]"
      ]
     },
     "execution_count": 37,
     "metadata": {},
     "output_type": "execute_result"
    }
   ],
   "source": [
    "li =[1,2,3,4]\n",
    "d = []\n",
    "for i in li:\n",
    "    x = Node(li)\n",
    "    d.append(x)\n",
    "d"
   ]
  },
  {
   "cell_type": "code",
   "execution_count": 39,
   "metadata": {},
   "outputs": [],
   "source": [
    "d[0].add_co([2444, 2389745])"
   ]
  },
  {
   "cell_type": "code",
   "execution_count": 40,
   "metadata": {},
   "outputs": [
    {
     "data": {
      "text/plain": [
       "[2444, 2389745]"
      ]
     },
     "execution_count": 40,
     "metadata": {},
     "output_type": "execute_result"
    }
   ],
   "source": [
    "d[0].co"
   ]
  }
 ],
 "metadata": {
  "kernelspec": {
   "display_name": "Python 3",
   "language": "python",
   "name": "python3"
  },
  "language_info": {
   "codemirror_mode": {
    "name": "ipython",
    "version": 3
   },
   "file_extension": ".py",
   "mimetype": "text/x-python",
   "name": "python",
   "nbconvert_exporter": "python",
   "pygments_lexer": "ipython3",
   "version": "3.7.5"
  }
 },
 "nbformat": 4,
 "nbformat_minor": 2
}
