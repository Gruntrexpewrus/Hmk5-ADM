{
 "cells": [
  {
   "cell_type": "markdown",
   "metadata": {},
   "source": [
    "# Part[3] of ex2 and ex3."
   ]
  },
  {
   "cell_type": "markdown",
   "metadata": {},
   "source": [
    "We start osberving the data undertsanding that th einformation we need come from the 7th line till the end."
   ]
  },
  {
   "cell_type": "code",
   "execution_count": 12,
   "metadata": {
    "scrolled": true
   },
   "outputs": [
    {
     "name": "stdout",
     "output_type": "stream",
     "text": [
      "c 9th DIMACS Implementation Challenge: Shortest Paths\n",
      "\n",
      "c http://www.dis.uniroma1.it/~challenge9\n",
      "\n",
      "c TIGER/Line graph USA-road-d.CAL\n",
      "\n",
      "c\n",
      "\n",
      "p sp 1890815 4657742\n",
      "\n",
      "c graph contains 1890815 nodes and 4657742 arcs\n",
      "\n",
      "c\n",
      "\n",
      "a 1 1048577 456\n",
      "\n",
      "a 1048577 1 456\n",
      "\n",
      "a 2 1048578 2389\n",
      "\n"
     ]
    }
   ],
   "source": [
    "n = 0\n",
    "with open(\"USA-road-d.CAL.gr\", encoding='utf-8') as file:\n",
    "    for line in file:\n",
    "        if (n<10):\n",
    "            print(line)\n",
    "            n += 1"
   ]
  },
  {
   "cell_type": "code",
   "execution_count": 13,
   "metadata": {
    "scrolled": false
   },
   "outputs": [
    {
     "name": "stdout",
     "output_type": "stream",
     "text": [
      "c 9th DIMACS Implementation Challenge: Shortest Paths\n",
      "\n",
      "c http://www.dis.uniroma1.it/~challenge9\n",
      "\n",
      "c TIGER/Line graph USA-road-t.CAL\n",
      "\n",
      "c\n",
      "\n",
      "p sp 1890815 4657742\n",
      "\n",
      "c graph contains 1890815 nodes and 4657742 arcs\n",
      "\n",
      "c\n",
      "\n",
      "a 1 1048577 1139\n",
      "\n",
      "a 1048577 1 1139\n",
      "\n",
      "a 2 1048578 5972\n",
      "\n"
     ]
    }
   ],
   "source": [
    "n = 0\n",
    "with open(\"USA-road-t.CAL.gr\", encoding='utf-8') as file:\n",
    "    for line in file:\n",
    "        if (n<10):\n",
    "            print(line)\n",
    "            n += 1"
   ]
  },
  {
   "cell_type": "markdown",
   "metadata": {},
   "source": [
    "Let's see the structure. It seems that splitting the lines we have easily the informations we need and this will work for all three files. So let's start!"
   ]
  },
  {
   "cell_type": "code",
   "execution_count": 16,
   "metadata": {
    "scrolled": true
   },
   "outputs": [
    {
     "name": "stdout",
     "output_type": "stream",
     "text": [
      "v 1 -114315309 34133550\n",
      "\n",
      "['v', '1', '-114315309', '34133550']\n",
      "v 2 -114223946 34176221\n",
      "\n",
      "['v', '2', '-114223946', '34176221']\n",
      "v 3 -114307299 34148791\n",
      "\n",
      "['v', '3', '-114307299', '34148791']\n",
      "v 4 -114318765 34138889\n",
      "\n",
      "['v', '4', '-114318765', '34138889']\n",
      "v 5 -114347300 34042614\n",
      "\n",
      "['v', '5', '-114347300', '34042614']\n",
      "v 6 -114347162 34058931\n",
      "\n",
      "['v', '6', '-114347162', '34058931']\n",
      "v 7 -114126950 33988170\n",
      "\n",
      "['v', '7', '-114126950', '33988170']\n",
      "v 8 -114347268 34028261\n",
      "\n",
      "['v', '8', '-114347268', '34028261']\n",
      "v 9 -114340613 34042519\n",
      "\n",
      "['v', '9', '-114340613', '34042519']\n"
     ]
    }
   ],
   "source": [
    "n = 0\n",
    "with open(\"USA-road-d.CAL.co\", encoding='utf-8') as file:\n",
    "    for line in file:\n",
    "        if (n>6 and n<16):\n",
    "            ww = line.split()\n",
    "            print(line)\n",
    "            print(ww)\n",
    "        n += 1"
   ]
  },
  {
   "cell_type": "code",
   "execution_count": null,
   "metadata": {},
   "outputs": [],
   "source": []
  },
  {
   "cell_type": "code",
   "execution_count": null,
   "metadata": {},
   "outputs": [],
   "source": [
    "list = "
   ]
  }
 ],
 "metadata": {
  "kernelspec": {
   "display_name": "Python 3",
   "language": "python",
   "name": "python3"
  },
  "language_info": {
   "codemirror_mode": {
    "name": "ipython",
    "version": 3
   },
   "file_extension": ".py",
   "mimetype": "text/x-python",
   "name": "python",
   "nbconvert_exporter": "python",
   "pygments_lexer": "ipython3",
   "version": "3.7.5"
  }
 },
 "nbformat": 4,
 "nbformat_minor": 2
}
