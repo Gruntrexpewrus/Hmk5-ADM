{
 "cells": [
  {
   "cell_type": "markdown",
   "metadata": {},
   "source": [
    "# Imports"
   ]
  },
  {
   "cell_type": "code",
   "execution_count": 133,
   "metadata": {},
   "outputs": [],
   "source": [
    "from collections import defaultdict\n",
    "import itertools"
   ]
  },
  {
   "cell_type": "markdown",
   "metadata": {},
   "source": [
    "# The Classes"
   ]
  },
  {
   "cell_type": "code",
   "execution_count": 1,
   "metadata": {},
   "outputs": [],
   "source": [
    "from collections import defaultdict\n",
    "import itertools"
   ]
  },
  {
   "cell_type": "code",
   "execution_count": 32,
   "metadata": {},
   "outputs": [],
   "source": [
    "from collections import defaultdict\n",
    "class Graph(object):\n",
    "    '''\n",
    "    Graph Data Structure, undirected by default\n",
    "    '''\n",
    "    \n",
    "    def __init__(self):\n",
    "        self.adjacency = defaultdict(set)\n",
    "       # self.dis = {}\n",
    "      #  self.tim = {}\n",
    "       # self.net = {}\n",
    "        self.coordinates = {}\n",
    "        self.adj_list_d = defaultdict(list)\n",
    "        self.adj_list_t = defaultdict(list)\n",
    "        self.adj_list_n = defaultdict(list)\n",
    "        \n",
    "    def add(self, node1, node2):\n",
    "        ''' Add connection between node1, node2'''\n",
    "        self.adjacency[int(node1)].add(int(node2))\n",
    "        self.adjacency[int(node2)].add(int(node1))\n",
    "        #self.net[int(node1), int(node2)] = 1\n",
    "    \n",
    "    def distance(self, node1, node2, d):\n",
    "        ''' Create the distance measure between node1 and node2 '''\n",
    "        #self.dis[(int(node1), int(node2))] = int(d)\n",
    "        if [int(d), int(node2)] not in self.adj_list_d[int(node1)]:\n",
    "            self.adj_list_d[int(node1)].append([int(d), int(node2)])\n",
    "            self.adj_list_d[int(node2)].append([int(d), int(node1)])\n",
    "            self.adj_list_n[int(node1)].append([1, int(node2)])\n",
    "            self.adj_list_n[int(node2)].append([1, int(node1)])\n",
    "        \n",
    "    def time(self, node1, node2, t):\n",
    "        ''' Create the time distance measure between node 1 and node 2'''\n",
    "        \n",
    "        #self.tim[(int(node1), int(node2))] = int(t)\n",
    "        if [ int(t), int(node2)] not in  self.adj_list_t[int(node1)]:\n",
    "            self.adj_list_t[int(node1)].append([ int(t), int(node2)])\n",
    "            self.adj_list_t[int(node2)].append([int(t), int(node1)])\n",
    "        \n",
    "    def coordinate(self, node, coordinate1, coordinate2):\n",
    "        '''Save the coordinates of every node'''\n",
    "        self.coordinates[int(node)] = [int(coordinate1), int(coordinate2)]\n",
    "    \n",
    "    def nodes_(self):\n",
    "        ''' All the nodes of the graph '''\n",
    "        return list(set(self.adjacency.keys()))\n",
    "    \n",
    "    def edges(self):\n",
    "        ''' Return all the edges of the graph '''\n",
    "        return list(self.dis.keys())\n",
    "    \n",
    "    def print_adj_list_d(self):\n",
    "        for keys, values in self.adj_list_d.items():\n",
    "            print(keys, values)\n",
    "            \n",
    "    def print_adj_list_t(self):\n",
    "        for keys, values in self.adj_list_d.items():\n",
    "            print( keys, values)\n",
    "    '''DFS for the first functionality'''      \n",
    "    def dfs(self, startnode, visited, dist, kind):\n",
    "        if visited is None:\n",
    "            visited = set() \n",
    "        visited.add(startnode)\n",
    "        for i in kind[startnode]:\n",
    "            if i[1] not in visited:\n",
    "                if i[0] < dist:\n",
    "                    self.dfs(i[1], visited, dist-i[0], kind)\n",
    "        return visited\n",
    "    \n",
    "    def functionality1(self):\n",
    "        startnode = int(input(\"Give me the node as a number: \\n \"))\n",
    "        measure = int(input(\"We need a function to claculate the distance, if you want metric distance digit 1, time distance 2, network distance 3. \\n \"))\n",
    "        dist = int(input(\"Put a number as threshold distance: \\n \"))\n",
    "        if measure == 1:\n",
    "            return self.dfs(startnode, None, dist, self.adj_list_d)\n",
    "        elif measure == 2:\n",
    "            return self.dfs(startnode, None,dist, self.adj_list_t)\n",
    "        elif measure == 3 :\n",
    "            return self.dfs(startnode, None, dist, self.adj_list_n)\n",
    "        \n",
    "    '''This Dijsktra return a list of nodes that you will touch in the minimum path.\n",
    "    The code works exactly like the dijsktra method renewing each time the weight and predecessor of a node. \n",
    "    We point the attention that the weights arer always counted for all the path, so every node\n",
    "    in shortest_paths will have a weight assocviated to a path, not only a couple of nodes'''\n",
    "    def dijsktra(self, initial, end, kind):\n",
    "    # shortest paths is a dict of nodes\n",
    "    # whose value is a tuple of (previous node, weight)\n",
    "        shortest_paths = {initial: (None, 0)}\n",
    "        current_node = initial\n",
    "        visited = set()\n",
    "    \n",
    "        while current_node != end:\n",
    "            visited.add(current_node)\n",
    "            destinations = kind[current_node]\n",
    "            weight_to_current_node = shortest_paths[current_node][1]\n",
    "\n",
    "            for next_node in destinations:\n",
    "                weight = next_node[0] + weight_to_current_node\n",
    "                if next_node[1] not in shortest_paths:\n",
    "                    shortest_paths[next_node[1]] = (current_node, weight)\n",
    "                else:\n",
    "                    current_shortest_weight = shortest_paths[next_node[1]][1]\n",
    "                    if current_shortest_weight > weight:\n",
    "                        shortest_paths[next_node[1]] = (current_node, weight)\n",
    "            next_destinations = {node: shortest_paths[node] for node in shortest_paths if node not in visited}\n",
    "            if not next_destinations:\n",
    "               # return \"Route Not Possible\"\n",
    "                return [],[]\n",
    "        # next node is the destination with the lowest weight in the second component\n",
    "            current_node = min(next_destinations, key=lambda k: next_destinations[k][1])\n",
    "           \n",
    "    \n",
    "    # Work back through destinations in shortest path\n",
    "        path = []\n",
    "        #print(shortest_paths)\n",
    "        while current_node is not None:\n",
    "            path.append(current_node)\n",
    "            next_node = shortest_paths[current_node][0]\n",
    "            current_node = next_node\n",
    "        \n",
    "        path = path[::-1]\n",
    "        tup = []\n",
    "        for i in range(len(path)-1):\n",
    "            tup.append((path[i], path[i+1]))\n",
    "        return tup, shortest_paths[end][1]\n",
    "    \n",
    "    def dijsktrafor2(self, nodes, kind):\n",
    "        #a list of tuples, each one a permutation of the nodes the user gave.\n",
    "        permuTuples = list(itertools.permutations(nodes))\n",
    "        final_path = []\n",
    "        weight_final =99999999999 \n",
    "        for i in permuTuples:\n",
    "            obj = list(i)\n",
    "            path = []\n",
    "            weight = 0\n",
    "            lenpath = 0\n",
    "            for j in range(len(obj)-1):\n",
    "                A, B = self.dijsktra(obj[j], obj[j+1], kind)\n",
    "                if A == [] and B == []:\n",
    "                    break\n",
    "                path.append(A)\n",
    "                weight = weight + B\n",
    "            if weight < weight_final:\n",
    "                weight_final = weight\n",
    "                final_path = path\n",
    "        to_print = []\n",
    "        #print(final_path)\n",
    "        if final_path == []:\n",
    "            return (\"No path possible\")\n",
    "        for i in final_path:\n",
    "               for j in i:\n",
    "                    to_print.append(j)\n",
    "        return to_print\n",
    "\n",
    "    def functionality2(self):\n",
    "        startnodes = [int(x) for x in input('Write the nodes, each one spaced from the other.').split()]\n",
    "        measure = int(input(\"We need a function to claculate the distance, if you want metric distance digit 1, time distance 2, network distance 3. \\n \"))\n",
    "        if measure == 1:\n",
    "            return self.dijsktrafor2(startnodes,self.adj_list_d)\n",
    "        elif measure == 2:\n",
    "            return self.dijsktrafor2(startnodes,self.adj_list_t)\n",
    "        elif measure == 3 :\n",
    "            return self.dijsktrafor2(startnodes,self.adj_list_n)\n",
    "    \n",
    "    \n",
    "    def dijsktrafor3(self, startnode, nodes, kind):\n",
    "        nodi = [startnode]\n",
    "        for i in nodes:\n",
    "            nodi.append(i)\n",
    "        final_path = []\n",
    "        final_weight = 0\n",
    "        to_print = []\n",
    "        for i in range(len(nodi)-1):\n",
    "            A, B = self.dijsktra(nodi[i], nodi[i+1], kind)\n",
    "            if A == []:\n",
    "                    return 'No path ordered allowed'\n",
    "            final_weight += B\n",
    "            final_path.append(A)\n",
    "        for i in final_path:\n",
    "            for j in i:\n",
    "                to_print.append(j)\n",
    "        return to_print\n",
    "    \n",
    "    def functionality3(self):\n",
    "        H_n = int(input('Write the number associated to the starting node.\\n'))\n",
    "        startnodes = [int(x) for x in input('Write the nodes, each one spaced from the other.\\n').split()]\n",
    "        measure = int(input(\"We need a function to claculate the distance, if you want metric distance digit 1, time distance 2, network distance 3. \\n \"))\n",
    "        if measure == 1:\n",
    "            return self.dijsktrafor3( H_n, startnodes, self.adj_list_d)\n",
    "        elif measure == 2:\n",
    "            return self.dijsktrafor3( H_n, startnodes, self.adj_list_t)\n",
    "        elif measure == 3 :\n",
    "            return self.dijsktrafor3( H_n, startnodes, self.adj_list_n)\n"
   ]
  },
  {
   "cell_type": "markdown",
   "metadata": {},
   "source": [
    "# Read the Data\n",
    "#### Previewing the data, we notice that the first 7 rows are an introduction and an a prologue for the data that follows, so we skip these"
   ]
  },
  {
   "cell_type": "markdown",
   "metadata": {},
   "source": [
    "#### Let's create a Graph out of our Data"
   ]
  },
  {
   "cell_type": "code",
   "execution_count": 33,
   "metadata": {},
   "outputs": [],
   "source": [
    "G = Graph()"
   ]
  },
  {
   "cell_type": "code",
   "execution_count": 34,
   "metadata": {},
   "outputs": [],
   "source": [
    "with open(r\"USA-road-d.CAL.gr\", encoding='utf-8') as file:\n",
    "    n = 0\n",
    "    for line in file:\n",
    "        if n > 6:\n",
    "            ww = line.split()\n",
    "            G.add(ww[1], ww[2])\n",
    "            G.distance(ww[1], ww[2], ww[3])\n",
    "        n += 1"
   ]
  },
  {
   "cell_type": "code",
   "execution_count": 35,
   "metadata": {},
   "outputs": [],
   "source": [
    "with open(r\"USA-road-t.CAL.gr\", encoding='utf-8') as file:\n",
    "    n = 0\n",
    "    for line in file:\n",
    "        if n > 6:\n",
    "            ww = line.split()\n",
    "            G.add(ww[1], ww[2])\n",
    "            G.time(ww[1], ww[2], ww[3])\n",
    "        n += 1"
   ]
  },
  {
   "cell_type": "code",
   "execution_count": 36,
   "metadata": {},
   "outputs": [],
   "source": [
    "with open(r\"USA-road-d.CAL.co\", encoding='utf-8') as file:\n",
    "    n = 0\n",
    "    for line in file:\n",
    "        if n > 6:\n",
    "            ww = line.split()\n",
    "            G.coordinate(ww[1], ww[2], ww[3])\n",
    "        n += 1"
   ]
  },
  {
   "cell_type": "code",
   "execution_count": 37,
   "metadata": {},
   "outputs": [
    {
     "name": "stdout",
     "output_type": "stream",
     "text": [
      "Write the number associated to the starting node.\n",
      "40\n",
      "Write the nodes, each one spaced from the other.\n",
      "43 66\n",
      "We need a function to claculate the distance, if you want metric distance digit 1, time distance 2, network distance 3. \n",
      " 1\n"
     ]
    },
    {
     "data": {
      "text/plain": [
       "[(40, 1048609),\n",
       " (1048609, 1050708),\n",
       " (1050708, 43),\n",
       " (43, 1048612),\n",
       " (1048612, 2384),\n",
       " (2384, 1048594),\n",
       " (1048594, 23),\n",
       " (23, 61),\n",
       " (61, 1048625),\n",
       " (1048625, 1048628),\n",
       " (1048628, 65),\n",
       " (65, 1048629),\n",
       " (1048629, 66)]"
      ]
     },
     "execution_count": 37,
     "metadata": {},
     "output_type": "execute_result"
    }
   ],
   "source": [
    "G.functionality3()"
   ]
  },
  {
   "cell_type": "code",
   "execution_count": 10,
   "metadata": {
    "scrolled": true
   },
   "outputs": [
    {
     "name": "stdout",
     "output_type": "stream",
     "text": [
      "Write the nodes, each one spaced from the other.23 40 66\n",
      "We need a function to claculate the distance, if you want metric distance digit 1, time distance 2, network distance 3. \n",
      " 1\n"
     ]
    },
    {
     "data": {
      "text/plain": [
       "[(40, 1048609),\n",
       " (1048609, 1050708),\n",
       " (1050708, 43),\n",
       " (43, 1048612),\n",
       " (1048612, 2384),\n",
       " (2384, 1048594),\n",
       " (1048594, 23),\n",
       " (23, 61),\n",
       " (61, 1048625),\n",
       " (1048625, 1048628),\n",
       " (1048628, 65),\n",
       " (65, 1048629),\n",
       " (1048629, 66)]"
      ]
     },
     "execution_count": 10,
     "metadata": {},
     "output_type": "execute_result"
    }
   ],
   "source": [
    "G.functionality2()"
   ]
  },
  {
   "cell_type": "code",
   "execution_count": 11,
   "metadata": {},
   "outputs": [
    {
     "name": "stdout",
     "output_type": "stream",
     "text": [
      "Write the nodes, each one spaced from the other.23 40 66\n",
      "We need a function to claculate the distance, if you want metric distance digit 1, time distance 2, network distance 3. \n",
      " 2\n"
     ]
    },
    {
     "data": {
      "text/plain": [
       "[(40, 1048609),\n",
       " (1048609, 1050708),\n",
       " (1050708, 43),\n",
       " (43, 1048612),\n",
       " (1048612, 2384),\n",
       " (2384, 1048594),\n",
       " (1048594, 23),\n",
       " (23, 61),\n",
       " (61, 1048625),\n",
       " (1048625, 1048628),\n",
       " (1048628, 65),\n",
       " (65, 1048629),\n",
       " (1048629, 66)]"
      ]
     },
     "execution_count": 11,
     "metadata": {},
     "output_type": "execute_result"
    }
   ],
   "source": [
    "G.functionality2()"
   ]
  },
  {
   "cell_type": "code",
   "execution_count": 12,
   "metadata": {},
   "outputs": [
    {
     "name": "stdout",
     "output_type": "stream",
     "text": [
      "Write the nodes, each one spaced from the other.23 40 66\n",
      "We need a function to claculate the distance, if you want metric distance digit 1, time distance 2, network distance 3. \n",
      " 3\n"
     ]
    },
    {
     "data": {
      "text/plain": [
       "[(40, 1048609),\n",
       " (1048609, 1050708),\n",
       " (1050708, 43),\n",
       " (43, 1048612),\n",
       " (1048612, 2384),\n",
       " (2384, 1048594),\n",
       " (1048594, 23),\n",
       " (23, 61),\n",
       " (61, 1048625),\n",
       " (1048625, 1048628),\n",
       " (1048628, 65),\n",
       " (65, 1048629),\n",
       " (1048629, 66)]"
      ]
     },
     "execution_count": 12,
     "metadata": {},
     "output_type": "execute_result"
    }
   ],
   "source": [
    "G.functionality2()"
   ]
  },
  {
   "cell_type": "code",
   "execution_count": 41,
   "metadata": {
    "scrolled": false
   },
   "outputs": [
    {
     "name": "stdout",
     "output_type": "stream",
     "text": [
      "Give me the node as a number: \n",
      " 23\n",
      "We need a function to claculate the distance, if you want metric distance digit 1, time distance 2, network distance 3. \n",
      " 1\n",
      "Put a number as threshold distance: \n",
      " 100000\n"
     ]
    },
    {
     "data": {
      "text/plain": [
       "{20,\n",
       " 21,\n",
       " 23,\n",
       " 24,\n",
       " 25,\n",
       " 61,\n",
       " 65,\n",
       " 66,\n",
       " 67,\n",
       " 1048594,\n",
       " 1048595,\n",
       " 1048596,\n",
       " 1048625,\n",
       " 1048628,\n",
       " 1048629,\n",
       " 1048630}"
      ]
     },
     "execution_count": 41,
     "metadata": {},
     "output_type": "execute_result"
    }
   ],
   "source": [
    "G.functionality1()"
   ]
  },
  {
   "cell_type": "code",
   "execution_count": 11,
   "metadata": {
    "scrolled": true
   },
   "outputs": [
    {
     "name": "stdout",
     "output_type": "stream",
     "text": [
      "Give me the node as a number: \n",
      " 23\n",
      "We need a function to claculate the distance, if you want metric distance digit 1, time distance 2, network distance 3. \n",
      " 2\n",
      "Put a number as threshold distance: \n",
      " 50000\n"
     ]
    },
    {
     "data": {
      "text/plain": [
       "{23,\n",
       " 24,\n",
       " 40,\n",
       " 43,\n",
       " 61,\n",
       " 2074,\n",
       " 2384,\n",
       " 2660,\n",
       " 2661,\n",
       " 2662,\n",
       " 1048594,\n",
       " 1048609,\n",
       " 1048612,\n",
       " 1048625,\n",
       " 1050239,\n",
       " 1050241,\n",
       " 1050496,\n",
       " 1050708,\n",
       " 1050709,\n",
       " 1050717}"
      ]
     },
     "execution_count": 11,
     "metadata": {},
     "output_type": "execute_result"
    }
   ],
   "source": [
    "G.functionality1()"
   ]
  },
  {
   "cell_type": "code",
   "execution_count": 13,
   "metadata": {
    "scrolled": false
   },
   "outputs": [
    {
     "name": "stdout",
     "output_type": "stream",
     "text": [
      "Give me the node as a number: \n",
      " 23\n",
      "We need a function to claculate the distance, if you want metric distance digit 1, time distance 2, network distance 3. \n",
      " 3\n",
      "Put a number as threshold distance: \n",
      " 7\n"
     ]
    },
    {
     "data": {
      "text/plain": [
       "{19,\n",
       " 20,\n",
       " 21,\n",
       " 23,\n",
       " 24,\n",
       " 25,\n",
       " 43,\n",
       " 61,\n",
       " 65,\n",
       " 66,\n",
       " 81,\n",
       " 2074,\n",
       " 2384,\n",
       " 2461,\n",
       " 2659,\n",
       " 2660,\n",
       " 1048594,\n",
       " 1048595,\n",
       " 1048596,\n",
       " 1048597,\n",
       " 1048609,\n",
       " 1048612,\n",
       " 1048625,\n",
       " 1048628,\n",
       " 1048629,\n",
       " 1048630,\n",
       " 1050238,\n",
       " 1050239,\n",
       " 1050241,\n",
       " 1050496,\n",
       " 1050708,\n",
       " 1050709}"
      ]
     },
     "execution_count": 13,
     "metadata": {},
     "output_type": "execute_result"
    }
   ],
   "source": [
    "G.functionality1()"
   ]
  },
  {
   "cell_type": "code",
   "execution_count": null,
   "metadata": {},
   "outputs": [],
   "source": [
    "[1]+[2]"
   ]
  }
 ],
 "metadata": {
  "kernelspec": {
   "display_name": "Python 3",
   "language": "python",
   "name": "python3"
  },
  "language_info": {
   "codemirror_mode": {
    "name": "ipython",
    "version": 3
   },
   "file_extension": ".py",
   "mimetype": "text/x-python",
   "name": "python",
   "nbconvert_exporter": "python",
   "pygments_lexer": "ipython3",
   "version": "3.7.5"
  }
 },
 "nbformat": 4,
 "nbformat_minor": 2
}
